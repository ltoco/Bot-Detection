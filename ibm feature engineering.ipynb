{
  "nbformat": 4,
  "nbformat_minor": 0,
  "metadata": {
    "kernelspec": {
      "display_name": "Python 3",
      "language": "python",
      "name": "python3"
    },
    "language_info": {
      "codemirror_mode": {
        "name": "ipython",
        "version": 3
      },
      "file_extension": ".py",
      "mimetype": "text/x-python",
      "name": "python",
      "nbconvert_exporter": "python",
      "pygments_lexer": "ipython3",
      "version": "3.7.4"
    },
    "colab": {
      "name": "ibm feature engineering.ipynb",
      "provenance": []
    }
  },
  "cells": [
    {
      "cell_type": "code",
      "metadata": {
        "id": "MBJFsU3fyiBv",
        "colab_type": "code",
        "colab": {
          "base_uri": "https://localhost:8080/",
          "height": 71
        },
        "outputId": "600e9d0a-eec9-4537-9860-2219024dd29f"
      },
      "source": [
        "import pandas as pd\n",
        "import numpy as np\n",
        "import seaborn as sns\n",
        "import matplotlib.pyplot as plt"
      ],
      "execution_count": 1,
      "outputs": [
        {
          "output_type": "stream",
          "text": [
            "/usr/local/lib/python3.6/dist-packages/statsmodels/tools/_testing.py:19: FutureWarning: pandas.util.testing is deprecated. Use the functions in the public API at pandas.testing instead.\n",
            "  import pandas.util.testing as tm\n"
          ],
          "name": "stderr"
        }
      ]
    },
    {
      "cell_type": "code",
      "metadata": {
        "id": "r3XAhFeZyiCE",
        "colab_type": "code",
        "colab": {
          "base_uri": "https://localhost:8080/",
          "height": 417
        },
        "outputId": "dbb0fab5-2483-462d-8845-99b18f07b9cc"
      },
      "source": [
        "df = pd.read_csv('ibm_data.csv')\n",
        "df.head(3)"
      ],
      "execution_count": 2,
      "outputs": [
        {
          "output_type": "execute_result",
          "data": {
            "text/html": [
              "<div>\n",
              "<style scoped>\n",
              "    .dataframe tbody tr th:only-of-type {\n",
              "        vertical-align: middle;\n",
              "    }\n",
              "\n",
              "    .dataframe tbody tr th {\n",
              "        vertical-align: top;\n",
              "    }\n",
              "\n",
              "    .dataframe thead th {\n",
              "        text-align: right;\n",
              "    }\n",
              "</style>\n",
              "<table border=\"1\" class=\"dataframe\">\n",
              "  <thead>\n",
              "    <tr style=\"text-align: right;\">\n",
              "      <th></th>\n",
              "      <th>Unnamed: 0</th>\n",
              "      <th>ctry_name</th>\n",
              "      <th>intgrtd_mngmt_name</th>\n",
              "      <th>intgrtd_operating_team_name</th>\n",
              "      <th>city</th>\n",
              "      <th>st</th>\n",
              "      <th>sec_lvl_domn</th>\n",
              "      <th>device_type</th>\n",
              "      <th>operating_sys</th>\n",
              "      <th>ip_addr</th>\n",
              "      <th>user_agent</th>\n",
              "      <th>VISIT</th>\n",
              "      <th>ENGD_VISIT</th>\n",
              "      <th>VIEWS</th>\n",
              "      <th>page_url</th>\n",
              "      <th>wk</th>\n",
              "      <th>mth</th>\n",
              "      <th>yr</th>\n",
              "      <th>page_vw_ts</th>\n",
              "    </tr>\n",
              "  </thead>\n",
              "  <tbody>\n",
              "    <tr>\n",
              "      <th>0</th>\n",
              "      <td>0</td>\n",
              "      <td>United States</td>\n",
              "      <td>United States</td>\n",
              "      <td>North America</td>\n",
              "      <td>SLIDELL</td>\n",
              "      <td>LOUISIANA</td>\n",
              "      <td>CHARTER.COM</td>\n",
              "      <td>MOBILEPHONE</td>\n",
              "      <td>IOS_12.1.4</td>\n",
              "      <td>287e8e9aeedb50e963906f10cca7ca26ae830154e69220...</td>\n",
              "      <td>MOZILLA/5.0 (IPHONE; CPU IPHONE OS 12_1_4 LIKE...</td>\n",
              "      <td>1.0</td>\n",
              "      <td>0.0</td>\n",
              "      <td>1.0</td>\n",
              "      <td>www.ibm.com/watson/campaign</td>\n",
              "      <td>11.0</td>\n",
              "      <td>3.0</td>\n",
              "      <td>2019.0</td>\n",
              "      <td>2019-06-04 05:05:18.023100</td>\n",
              "    </tr>\n",
              "    <tr>\n",
              "      <th>1</th>\n",
              "      <td>1</td>\n",
              "      <td>Japan</td>\n",
              "      <td>Japan</td>\n",
              "      <td>Japan</td>\n",
              "      <td>TOKYO</td>\n",
              "      <td>TOKYO</td>\n",
              "      <td>MOPERA.NET</td>\n",
              "      <td>TABLET</td>\n",
              "      <td>ANDROID_6.0</td>\n",
              "      <td>d7746df5cc2de7f79584d57c2c082b9acc7697602021a1...</td>\n",
              "      <td>MOZILLA/5.0 (LINUX; ANDROID 6.0; D-01J BUILD/H...</td>\n",
              "      <td>1.0</td>\n",
              "      <td>0.0</td>\n",
              "      <td>1.0</td>\n",
              "      <td>www.ibm.com/privacy/us/en</td>\n",
              "      <td>11.0</td>\n",
              "      <td>3.0</td>\n",
              "      <td>2019.0</td>\n",
              "      <td>2019-06-04 05:07:11.014300</td>\n",
              "    </tr>\n",
              "    <tr>\n",
              "      <th>2</th>\n",
              "      <td>2</td>\n",
              "      <td>United States</td>\n",
              "      <td>United States</td>\n",
              "      <td>North America</td>\n",
              "      <td>ELK GROVE</td>\n",
              "      <td>CALIFORNIA</td>\n",
              "      <td>COMCASTBUSINESS.NET</td>\n",
              "      <td>MOBILEPHONE</td>\n",
              "      <td>IOS_12.1.2</td>\n",
              "      <td>8540464f5f376c7a160d63632f8cbedc96c61158daf9ae...</td>\n",
              "      <td>MOZILLA/5.0 (IPHONE; CPU IPHONE OS 12_1_2 LIKE...</td>\n",
              "      <td>1.0</td>\n",
              "      <td>0.0</td>\n",
              "      <td>1.0</td>\n",
              "      <td>www.ibm.com/account/reg/us-en/signup?formid=ur...</td>\n",
              "      <td>11.0</td>\n",
              "      <td>3.0</td>\n",
              "      <td>2019.0</td>\n",
              "      <td>2019-06-04 05:08:46.081900</td>\n",
              "    </tr>\n",
              "  </tbody>\n",
              "</table>\n",
              "</div>"
            ],
            "text/plain": [
              "   Unnamed: 0      ctry_name  ...      yr                  page_vw_ts\n",
              "0           0  United States  ...  2019.0  2019-06-04 05:05:18.023100\n",
              "1           1          Japan  ...  2019.0  2019-06-04 05:07:11.014300\n",
              "2           2  United States  ...  2019.0  2019-06-04 05:08:46.081900\n",
              "\n",
              "[3 rows x 19 columns]"
            ]
          },
          "metadata": {
            "tags": []
          },
          "execution_count": 2
        }
      ]
    },
    {
      "cell_type": "code",
      "metadata": {
        "id": "2CknzcRzyiCa",
        "colab_type": "code",
        "colab": {
          "base_uri": "https://localhost:8080/",
          "height": 34
        },
        "outputId": "27c92477-0f01-4c12-e15f-72b76928263a"
      },
      "source": [
        "df.shape"
      ],
      "execution_count": 3,
      "outputs": [
        {
          "output_type": "execute_result",
          "data": {
            "text/plain": [
              "(86563, 19)"
            ]
          },
          "metadata": {
            "tags": []
          },
          "execution_count": 3
        }
      ]
    },
    {
      "cell_type": "code",
      "metadata": {
        "id": "vNx1LSPMyiC0",
        "colab_type": "code",
        "colab": {
          "base_uri": "https://localhost:8080/",
          "height": 357
        },
        "outputId": "7397a045-901a-4cae-a685-ae97d40aaf61"
      },
      "source": [
        "df.isnull().sum()"
      ],
      "execution_count": 4,
      "outputs": [
        {
          "output_type": "execute_result",
          "data": {
            "text/plain": [
              "Unnamed: 0                         0\n",
              "ctry_name                          0\n",
              "intgrtd_mngmt_name                 0\n",
              "intgrtd_operating_team_name        0\n",
              "city                            3890\n",
              "st                              3795\n",
              "sec_lvl_domn                   26504\n",
              "device_type                    69330\n",
              "operating_sys                    169\n",
              "ip_addr                            0\n",
              "user_agent                         2\n",
              "VISIT                              1\n",
              "ENGD_VISIT                         1\n",
              "VIEWS                              1\n",
              "page_url                           2\n",
              "wk                                 1\n",
              "mth                                1\n",
              "yr                                 1\n",
              "page_vw_ts                       186\n",
              "dtype: int64"
            ]
          },
          "metadata": {
            "tags": []
          },
          "execution_count": 4
        }
      ]
    },
    {
      "cell_type": "markdown",
      "metadata": {
        "id": "5A8r8GbxyiDL",
        "colab_type": "text"
      },
      "source": [
        "## Understanding the features\n",
        "\n",
        "#### 1. **User agent** - \n",
        "The User-Agent request header is a characteristic string that lets servers and network peers identify the application, operating system, vendor, and/or version of the requesting user agent.\n",
        "    \n",
        "   **Syntax -** \n",
        "    \n",
        "    User-Agent: <product> / <product-version> <comment>\n",
        "    \n",
        "   **Common format for browsers -**\n",
        "   \n",
        "    User-Agent: Mozilla/5.0 (<system-information>) <platform> (<platform-details>) <extensions>\n",
        "    \n",
        "   **Directives -** \n",
        "    \n",
        "    <product> - A product identifier — its name or development codename.\n",
        "    <product-version> - Version number of the product.\n",
        "    <comment> - Zero or more comments containing more details; sub-product information\n",
        "    \n",
        "[Source](https://developer.mozilla.org/en-US/docs/Web/HTTP/Headers/User-Agent)"
      ]
    },
    {
      "cell_type": "code",
      "metadata": {
        "id": "Yo5GZGkYyiDP",
        "colab_type": "code",
        "colab": {
          "base_uri": "https://localhost:8080/",
          "height": 35
        },
        "outputId": "908fd7d6-b10f-46b2-d2a3-1ec5e74ea298"
      },
      "source": [
        "df.loc[0, 'user_agent']"
      ],
      "execution_count": 5,
      "outputs": [
        {
          "output_type": "execute_result",
          "data": {
            "application/vnd.google.colaboratory.intrinsic": {
              "type": "string"
            },
            "text/plain": [
              "'MOZILLA/5.0 (IPHONE; CPU IPHONE OS 12_1_4 LIKE MAC OS X) APPLEWEBKIT/605.1.15 (KHTML  LIKE GECKO) VERSION/12.0 MOBILE/15E148 SAFARI/604.1'"
            ]
          },
          "metadata": {
            "tags": []
          },
          "execution_count": 5
        }
      ]
    },
    {
      "cell_type": "markdown",
      "metadata": {
        "id": "fUiXpPdHyiDe",
        "colab_type": "text"
      },
      "source": [
        "##### Replace missing `user_agent` with `unknown_user_agent`"
      ]
    },
    {
      "cell_type": "code",
      "metadata": {
        "id": "cV5GrSfuyiDh",
        "colab_type": "code",
        "colab": {}
      },
      "source": [
        "df['user_agent'].fillna('unknown_user_agent', inplace=True)"
      ],
      "execution_count": 6,
      "outputs": []
    },
    {
      "cell_type": "code",
      "metadata": {
        "id": "7TtnDxT5yiDx",
        "colab_type": "code",
        "colab": {
          "base_uri": "https://localhost:8080/",
          "height": 34
        },
        "outputId": "8b893a59-9459-4fbb-d3c0-2d47d51a769e"
      },
      "source": [
        "df['user_agent'].isnull().sum()"
      ],
      "execution_count": 7,
      "outputs": [
        {
          "output_type": "execute_result",
          "data": {
            "text/plain": [
              "0"
            ]
          },
          "metadata": {
            "tags": []
          },
          "execution_count": 7
        }
      ]
    },
    {
      "cell_type": "markdown",
      "metadata": {
        "id": "aAERvFRcyiEC",
        "colab_type": "text"
      },
      "source": [
        "##### Dropping missing `page_vw_ts`"
      ]
    },
    {
      "cell_type": "code",
      "metadata": {
        "id": "3uCVxHTPyiEH",
        "colab_type": "code",
        "colab": {}
      },
      "source": [
        "df['page_vw_ts'].dropna(inplace=True)"
      ],
      "execution_count": 8,
      "outputs": []
    },
    {
      "cell_type": "code",
      "metadata": {
        "id": "jVi0e-OEyiEU",
        "colab_type": "code",
        "colab": {
          "base_uri": "https://localhost:8080/",
          "height": 34
        },
        "outputId": "4523cf2e-f415-4d10-f15e-13b187250750"
      },
      "source": [
        "df['page_vw_ts'].isnull().sum()"
      ],
      "execution_count": 9,
      "outputs": [
        {
          "output_type": "execute_result",
          "data": {
            "text/plain": [
              "0"
            ]
          },
          "metadata": {
            "tags": []
          },
          "execution_count": 9
        }
      ]
    },
    {
      "cell_type": "code",
      "metadata": {
        "id": "6p3FzCfUyiEt",
        "colab_type": "code",
        "colab": {
          "base_uri": "https://localhost:8080/",
          "height": 34
        },
        "outputId": "7bd8a265-b945-459c-8562-66208a863e74"
      },
      "source": [
        "df.shape"
      ],
      "execution_count": 10,
      "outputs": [
        {
          "output_type": "execute_result",
          "data": {
            "text/plain": [
              "(86563, 19)"
            ]
          },
          "metadata": {
            "tags": []
          },
          "execution_count": 10
        }
      ]
    },
    {
      "cell_type": "code",
      "metadata": {
        "id": "_gN4MTxMyiE-",
        "colab_type": "code",
        "colab": {
          "base_uri": "https://localhost:8080/",
          "height": 357
        },
        "outputId": "9423ab27-b93f-453c-d119-f0e0434db406"
      },
      "source": [
        "df.dtypes"
      ],
      "execution_count": 11,
      "outputs": [
        {
          "output_type": "execute_result",
          "data": {
            "text/plain": [
              "Unnamed: 0                       int64\n",
              "ctry_name                       object\n",
              "intgrtd_mngmt_name              object\n",
              "intgrtd_operating_team_name     object\n",
              "city                            object\n",
              "st                              object\n",
              "sec_lvl_domn                    object\n",
              "device_type                     object\n",
              "operating_sys                   object\n",
              "ip_addr                         object\n",
              "user_agent                      object\n",
              "VISIT                          float64\n",
              "ENGD_VISIT                     float64\n",
              "VIEWS                          float64\n",
              "page_url                        object\n",
              "wk                             float64\n",
              "mth                            float64\n",
              "yr                             float64\n",
              "page_vw_ts                      object\n",
              "dtype: object"
            ]
          },
          "metadata": {
            "tags": []
          },
          "execution_count": 11
        }
      ]
    },
    {
      "cell_type": "code",
      "metadata": {
        "id": "xHcRU-zUyiFL",
        "colab_type": "code",
        "colab": {
          "base_uri": "https://localhost:8080/",
          "height": 332
        },
        "outputId": "71da46e4-6444-4615-9130-1560eacafe63"
      },
      "source": [
        "df.sample(3)"
      ],
      "execution_count": 12,
      "outputs": [
        {
          "output_type": "execute_result",
          "data": {
            "text/html": [
              "<div>\n",
              "<style scoped>\n",
              "    .dataframe tbody tr th:only-of-type {\n",
              "        vertical-align: middle;\n",
              "    }\n",
              "\n",
              "    .dataframe tbody tr th {\n",
              "        vertical-align: top;\n",
              "    }\n",
              "\n",
              "    .dataframe thead th {\n",
              "        text-align: right;\n",
              "    }\n",
              "</style>\n",
              "<table border=\"1\" class=\"dataframe\">\n",
              "  <thead>\n",
              "    <tr style=\"text-align: right;\">\n",
              "      <th></th>\n",
              "      <th>Unnamed: 0</th>\n",
              "      <th>ctry_name</th>\n",
              "      <th>intgrtd_mngmt_name</th>\n",
              "      <th>intgrtd_operating_team_name</th>\n",
              "      <th>city</th>\n",
              "      <th>st</th>\n",
              "      <th>sec_lvl_domn</th>\n",
              "      <th>device_type</th>\n",
              "      <th>operating_sys</th>\n",
              "      <th>ip_addr</th>\n",
              "      <th>user_agent</th>\n",
              "      <th>VISIT</th>\n",
              "      <th>ENGD_VISIT</th>\n",
              "      <th>VIEWS</th>\n",
              "      <th>page_url</th>\n",
              "      <th>wk</th>\n",
              "      <th>mth</th>\n",
              "      <th>yr</th>\n",
              "      <th>page_vw_ts</th>\n",
              "    </tr>\n",
              "  </thead>\n",
              "  <tbody>\n",
              "    <tr>\n",
              "      <th>78623</th>\n",
              "      <td>78623</td>\n",
              "      <td>Korea, Republic of</td>\n",
              "      <td>Korea</td>\n",
              "      <td>Asia Pacific</td>\n",
              "      <td>SEOUL</td>\n",
              "      <td>SEOUL TEUKBYEOLSI</td>\n",
              "      <td>NaN</td>\n",
              "      <td>NaN</td>\n",
              "      <td>MICROSOFT_WINDOWS10</td>\n",
              "      <td>452697c01db5ad4fa8653d2f99ef6ee87a7df9a517f109...</td>\n",
              "      <td>MOZILLA/5.0 (WINDOWS NT 10.0; WOW64) APPLEWEBK...</td>\n",
              "      <td>1.0</td>\n",
              "      <td>0.0</td>\n",
              "      <td>1.0</td>\n",
              "      <td>www-01.ibm.com/support/docview.wss?uid=ibm1087...</td>\n",
              "      <td>11.0</td>\n",
              "      <td>3.0</td>\n",
              "      <td>2019.0</td>\n",
              "      <td>2019-06-04 09:25:03.022600</td>\n",
              "    </tr>\n",
              "    <tr>\n",
              "      <th>81555</th>\n",
              "      <td>81555</td>\n",
              "      <td>Mexico</td>\n",
              "      <td>Mexico</td>\n",
              "      <td>Latin America</td>\n",
              "      <td>MEXICO CITY</td>\n",
              "      <td>DISTRITO FEDERAL</td>\n",
              "      <td>PROD-INFINITUM.COM.MX</td>\n",
              "      <td>NaN</td>\n",
              "      <td>MICROSOFT_WINDOWS10</td>\n",
              "      <td>fdfa3276096dce79f11cbc3df559c864bb66ff2fac9ff0...</td>\n",
              "      <td>MOZILLA/5.0 (WINDOWS NT 10.0; WIN64; X64) APPL...</td>\n",
              "      <td>1.0</td>\n",
              "      <td>0.0</td>\n",
              "      <td>1.0</td>\n",
              "      <td>text-to-speech-demo.ng.bluemix.net</td>\n",
              "      <td>11.0</td>\n",
              "      <td>3.0</td>\n",
              "      <td>2019.0</td>\n",
              "      <td>2019-06-04 02:25:36.074300</td>\n",
              "    </tr>\n",
              "    <tr>\n",
              "      <th>25029</th>\n",
              "      <td>25029</td>\n",
              "      <td>Germany</td>\n",
              "      <td>DACH</td>\n",
              "      <td>Europe</td>\n",
              "      <td>BIELEFELD-MITTE</td>\n",
              "      <td>NORDRHEIN-WESTFALEN</td>\n",
              "      <td>T-SYSTEMS.COM</td>\n",
              "      <td>NaN</td>\n",
              "      <td>MICROSOFT_WINDOWS10</td>\n",
              "      <td>11f8e82c8bff26e1a8674030eb0f021ec9b6c1c41e774f...</td>\n",
              "      <td>MOZILLA/5.0 (WINDOWS NT 10.0; WOW64) APPLEWEBK...</td>\n",
              "      <td>1.0</td>\n",
              "      <td>1.0</td>\n",
              "      <td>2.0</td>\n",
              "      <td>www.ibm.com/support/knowledgecenter/en/ssvrgu_...</td>\n",
              "      <td>11.0</td>\n",
              "      <td>3.0</td>\n",
              "      <td>2019.0</td>\n",
              "      <td>2019-06-04 15:03:56.085700</td>\n",
              "    </tr>\n",
              "  </tbody>\n",
              "</table>\n",
              "</div>"
            ],
            "text/plain": [
              "       Unnamed: 0           ctry_name  ...      yr                  page_vw_ts\n",
              "78623       78623  Korea, Republic of  ...  2019.0  2019-06-04 09:25:03.022600\n",
              "81555       81555              Mexico  ...  2019.0  2019-06-04 02:25:36.074300\n",
              "25029       25029             Germany  ...  2019.0  2019-06-04 15:03:56.085700\n",
              "\n",
              "[3 rows x 19 columns]"
            ]
          },
          "metadata": {
            "tags": []
          },
          "execution_count": 12
        }
      ]
    },
    {
      "cell_type": "markdown",
      "metadata": {
        "id": "SryDk6NWyiFW",
        "colab_type": "text"
      },
      "source": [
        "##### `device_type`, `sec_lvl_domn`  have too many nulls and also it won't be useful so dropping that column"
      ]
    },
    {
      "cell_type": "code",
      "metadata": {
        "id": "tgxZ8pRWyiFZ",
        "colab_type": "code",
        "colab": {}
      },
      "source": [
        "df.drop(['device_type', 'sec_lvl_domn'], axis=1, inplace=True)"
      ],
      "execution_count": 13,
      "outputs": []
    },
    {
      "cell_type": "code",
      "metadata": {
        "id": "XiJup2PYyiFn",
        "colab_type": "code",
        "colab": {}
      },
      "source": [
        "df.drop('Unnamed: 0', axis=1, inplace=True)"
      ],
      "execution_count": 14,
      "outputs": []
    },
    {
      "cell_type": "code",
      "metadata": {
        "id": "oG5DQq-ayiF3",
        "colab_type": "code",
        "colab": {}
      },
      "source": [
        "data = df.copy()"
      ],
      "execution_count": 15,
      "outputs": []
    },
    {
      "cell_type": "code",
      "metadata": {
        "id": "W6uaaSjJyiGK",
        "colab_type": "code",
        "colab": {}
      },
      "source": [
        "data['date'] = pd.to_datetime(data['page_vw_ts'])\n",
        "del data['page_vw_ts']"
      ],
      "execution_count": 16,
      "outputs": []
    },
    {
      "cell_type": "code",
      "metadata": {
        "id": "uX0p-Ta2yiGU",
        "colab_type": "code",
        "colab": {
          "base_uri": "https://localhost:8080/",
          "height": 400
        },
        "outputId": "43ce84e5-0fde-488a-bb43-017d2aa60d0a"
      },
      "source": [
        "data.head(3)"
      ],
      "execution_count": 17,
      "outputs": [
        {
          "output_type": "execute_result",
          "data": {
            "text/html": [
              "<div>\n",
              "<style scoped>\n",
              "    .dataframe tbody tr th:only-of-type {\n",
              "        vertical-align: middle;\n",
              "    }\n",
              "\n",
              "    .dataframe tbody tr th {\n",
              "        vertical-align: top;\n",
              "    }\n",
              "\n",
              "    .dataframe thead th {\n",
              "        text-align: right;\n",
              "    }\n",
              "</style>\n",
              "<table border=\"1\" class=\"dataframe\">\n",
              "  <thead>\n",
              "    <tr style=\"text-align: right;\">\n",
              "      <th></th>\n",
              "      <th>ctry_name</th>\n",
              "      <th>intgrtd_mngmt_name</th>\n",
              "      <th>intgrtd_operating_team_name</th>\n",
              "      <th>city</th>\n",
              "      <th>st</th>\n",
              "      <th>operating_sys</th>\n",
              "      <th>ip_addr</th>\n",
              "      <th>user_agent</th>\n",
              "      <th>VISIT</th>\n",
              "      <th>ENGD_VISIT</th>\n",
              "      <th>VIEWS</th>\n",
              "      <th>page_url</th>\n",
              "      <th>wk</th>\n",
              "      <th>mth</th>\n",
              "      <th>yr</th>\n",
              "      <th>date</th>\n",
              "    </tr>\n",
              "  </thead>\n",
              "  <tbody>\n",
              "    <tr>\n",
              "      <th>0</th>\n",
              "      <td>United States</td>\n",
              "      <td>United States</td>\n",
              "      <td>North America</td>\n",
              "      <td>SLIDELL</td>\n",
              "      <td>LOUISIANA</td>\n",
              "      <td>IOS_12.1.4</td>\n",
              "      <td>287e8e9aeedb50e963906f10cca7ca26ae830154e69220...</td>\n",
              "      <td>MOZILLA/5.0 (IPHONE; CPU IPHONE OS 12_1_4 LIKE...</td>\n",
              "      <td>1.0</td>\n",
              "      <td>0.0</td>\n",
              "      <td>1.0</td>\n",
              "      <td>www.ibm.com/watson/campaign</td>\n",
              "      <td>11.0</td>\n",
              "      <td>3.0</td>\n",
              "      <td>2019.0</td>\n",
              "      <td>2019-06-04 05:05:18.023100</td>\n",
              "    </tr>\n",
              "    <tr>\n",
              "      <th>1</th>\n",
              "      <td>Japan</td>\n",
              "      <td>Japan</td>\n",
              "      <td>Japan</td>\n",
              "      <td>TOKYO</td>\n",
              "      <td>TOKYO</td>\n",
              "      <td>ANDROID_6.0</td>\n",
              "      <td>d7746df5cc2de7f79584d57c2c082b9acc7697602021a1...</td>\n",
              "      <td>MOZILLA/5.0 (LINUX; ANDROID 6.0; D-01J BUILD/H...</td>\n",
              "      <td>1.0</td>\n",
              "      <td>0.0</td>\n",
              "      <td>1.0</td>\n",
              "      <td>www.ibm.com/privacy/us/en</td>\n",
              "      <td>11.0</td>\n",
              "      <td>3.0</td>\n",
              "      <td>2019.0</td>\n",
              "      <td>2019-06-04 05:07:11.014300</td>\n",
              "    </tr>\n",
              "    <tr>\n",
              "      <th>2</th>\n",
              "      <td>United States</td>\n",
              "      <td>United States</td>\n",
              "      <td>North America</td>\n",
              "      <td>ELK GROVE</td>\n",
              "      <td>CALIFORNIA</td>\n",
              "      <td>IOS_12.1.2</td>\n",
              "      <td>8540464f5f376c7a160d63632f8cbedc96c61158daf9ae...</td>\n",
              "      <td>MOZILLA/5.0 (IPHONE; CPU IPHONE OS 12_1_2 LIKE...</td>\n",
              "      <td>1.0</td>\n",
              "      <td>0.0</td>\n",
              "      <td>1.0</td>\n",
              "      <td>www.ibm.com/account/reg/us-en/signup?formid=ur...</td>\n",
              "      <td>11.0</td>\n",
              "      <td>3.0</td>\n",
              "      <td>2019.0</td>\n",
              "      <td>2019-06-04 05:08:46.081900</td>\n",
              "    </tr>\n",
              "  </tbody>\n",
              "</table>\n",
              "</div>"
            ],
            "text/plain": [
              "       ctry_name intgrtd_mngmt_name  ...      yr                       date\n",
              "0  United States      United States  ...  2019.0 2019-06-04 05:05:18.023100\n",
              "1          Japan              Japan  ...  2019.0 2019-06-04 05:07:11.014300\n",
              "2  United States      United States  ...  2019.0 2019-06-04 05:08:46.081900\n",
              "\n",
              "[3 rows x 16 columns]"
            ]
          },
          "metadata": {
            "tags": []
          },
          "execution_count": 17
        }
      ]
    },
    {
      "cell_type": "code",
      "metadata": {
        "id": "dAewtR6DyiGf",
        "colab_type": "code",
        "colab": {
          "base_uri": "https://localhost:8080/",
          "height": 306
        },
        "outputId": "1748543b-34ee-4f50-ad10-324b1b2d3e01"
      },
      "source": [
        "data.nunique()"
      ],
      "execution_count": 18,
      "outputs": [
        {
          "output_type": "execute_result",
          "data": {
            "text/plain": [
              "ctry_name                        189\n",
              "intgrtd_mngmt_name                21\n",
              "intgrtd_operating_team_name        8\n",
              "city                            7640\n",
              "st                              1369\n",
              "operating_sys                    114\n",
              "ip_addr                        64438\n",
              "user_agent                      8135\n",
              "VISIT                             37\n",
              "ENGD_VISIT                        26\n",
              "VIEWS                             67\n",
              "page_url                       46048\n",
              "wk                                 1\n",
              "mth                                1\n",
              "yr                                 1\n",
              "date                           86308\n",
              "dtype: int64"
            ]
          },
          "metadata": {
            "tags": []
          },
          "execution_count": 18
        }
      ]
    },
    {
      "cell_type": "code",
      "metadata": {
        "id": "NIo_Zp_ayiGo",
        "colab_type": "code",
        "colab": {}
      },
      "source": [
        "data.set_index(['date'], inplace=True)"
      ],
      "execution_count": 19,
      "outputs": []
    },
    {
      "cell_type": "code",
      "metadata": {
        "id": "_nL5y7CCyiGw",
        "colab_type": "code",
        "colab": {
          "base_uri": "https://localhost:8080/",
          "height": 431
        },
        "outputId": "f9eeb3c7-5e07-4e2c-d92c-a7f1b1af334e"
      },
      "source": [
        "data.head(3)"
      ],
      "execution_count": 20,
      "outputs": [
        {
          "output_type": "execute_result",
          "data": {
            "text/html": [
              "<div>\n",
              "<style scoped>\n",
              "    .dataframe tbody tr th:only-of-type {\n",
              "        vertical-align: middle;\n",
              "    }\n",
              "\n",
              "    .dataframe tbody tr th {\n",
              "        vertical-align: top;\n",
              "    }\n",
              "\n",
              "    .dataframe thead th {\n",
              "        text-align: right;\n",
              "    }\n",
              "</style>\n",
              "<table border=\"1\" class=\"dataframe\">\n",
              "  <thead>\n",
              "    <tr style=\"text-align: right;\">\n",
              "      <th></th>\n",
              "      <th>ctry_name</th>\n",
              "      <th>intgrtd_mngmt_name</th>\n",
              "      <th>intgrtd_operating_team_name</th>\n",
              "      <th>city</th>\n",
              "      <th>st</th>\n",
              "      <th>operating_sys</th>\n",
              "      <th>ip_addr</th>\n",
              "      <th>user_agent</th>\n",
              "      <th>VISIT</th>\n",
              "      <th>ENGD_VISIT</th>\n",
              "      <th>VIEWS</th>\n",
              "      <th>page_url</th>\n",
              "      <th>wk</th>\n",
              "      <th>mth</th>\n",
              "      <th>yr</th>\n",
              "    </tr>\n",
              "    <tr>\n",
              "      <th>date</th>\n",
              "      <th></th>\n",
              "      <th></th>\n",
              "      <th></th>\n",
              "      <th></th>\n",
              "      <th></th>\n",
              "      <th></th>\n",
              "      <th></th>\n",
              "      <th></th>\n",
              "      <th></th>\n",
              "      <th></th>\n",
              "      <th></th>\n",
              "      <th></th>\n",
              "      <th></th>\n",
              "      <th></th>\n",
              "      <th></th>\n",
              "    </tr>\n",
              "  </thead>\n",
              "  <tbody>\n",
              "    <tr>\n",
              "      <th>2019-06-04 05:05:18.023100</th>\n",
              "      <td>United States</td>\n",
              "      <td>United States</td>\n",
              "      <td>North America</td>\n",
              "      <td>SLIDELL</td>\n",
              "      <td>LOUISIANA</td>\n",
              "      <td>IOS_12.1.4</td>\n",
              "      <td>287e8e9aeedb50e963906f10cca7ca26ae830154e69220...</td>\n",
              "      <td>MOZILLA/5.0 (IPHONE; CPU IPHONE OS 12_1_4 LIKE...</td>\n",
              "      <td>1.0</td>\n",
              "      <td>0.0</td>\n",
              "      <td>1.0</td>\n",
              "      <td>www.ibm.com/watson/campaign</td>\n",
              "      <td>11.0</td>\n",
              "      <td>3.0</td>\n",
              "      <td>2019.0</td>\n",
              "    </tr>\n",
              "    <tr>\n",
              "      <th>2019-06-04 05:07:11.014300</th>\n",
              "      <td>Japan</td>\n",
              "      <td>Japan</td>\n",
              "      <td>Japan</td>\n",
              "      <td>TOKYO</td>\n",
              "      <td>TOKYO</td>\n",
              "      <td>ANDROID_6.0</td>\n",
              "      <td>d7746df5cc2de7f79584d57c2c082b9acc7697602021a1...</td>\n",
              "      <td>MOZILLA/5.0 (LINUX; ANDROID 6.0; D-01J BUILD/H...</td>\n",
              "      <td>1.0</td>\n",
              "      <td>0.0</td>\n",
              "      <td>1.0</td>\n",
              "      <td>www.ibm.com/privacy/us/en</td>\n",
              "      <td>11.0</td>\n",
              "      <td>3.0</td>\n",
              "      <td>2019.0</td>\n",
              "    </tr>\n",
              "    <tr>\n",
              "      <th>2019-06-04 05:08:46.081900</th>\n",
              "      <td>United States</td>\n",
              "      <td>United States</td>\n",
              "      <td>North America</td>\n",
              "      <td>ELK GROVE</td>\n",
              "      <td>CALIFORNIA</td>\n",
              "      <td>IOS_12.1.2</td>\n",
              "      <td>8540464f5f376c7a160d63632f8cbedc96c61158daf9ae...</td>\n",
              "      <td>MOZILLA/5.0 (IPHONE; CPU IPHONE OS 12_1_2 LIKE...</td>\n",
              "      <td>1.0</td>\n",
              "      <td>0.0</td>\n",
              "      <td>1.0</td>\n",
              "      <td>www.ibm.com/account/reg/us-en/signup?formid=ur...</td>\n",
              "      <td>11.0</td>\n",
              "      <td>3.0</td>\n",
              "      <td>2019.0</td>\n",
              "    </tr>\n",
              "  </tbody>\n",
              "</table>\n",
              "</div>"
            ],
            "text/plain": [
              "                                ctry_name intgrtd_mngmt_name  ...  mth      yr\n",
              "date                                                          ...             \n",
              "2019-06-04 05:05:18.023100  United States      United States  ...  3.0  2019.0\n",
              "2019-06-04 05:07:11.014300          Japan              Japan  ...  3.0  2019.0\n",
              "2019-06-04 05:08:46.081900  United States      United States  ...  3.0  2019.0\n",
              "\n",
              "[3 rows x 15 columns]"
            ]
          },
          "metadata": {
            "tags": []
          },
          "execution_count": 20
        }
      ]
    },
    {
      "cell_type": "code",
      "metadata": {
        "id": "Sh1dT9GKyiG4",
        "colab_type": "code",
        "colab": {
          "base_uri": "https://localhost:8080/",
          "height": 34
        },
        "outputId": "d0ec8092-c3c0-41b4-ad69-429b25c3d505"
      },
      "source": [
        "data.index.year.unique()"
      ],
      "execution_count": 21,
      "outputs": [
        {
          "output_type": "execute_result",
          "data": {
            "text/plain": [
              "Float64Index([2019.0, nan, 2018.0], dtype='float64', name='date')"
            ]
          },
          "metadata": {
            "tags": []
          },
          "execution_count": 21
        }
      ]
    },
    {
      "cell_type": "code",
      "metadata": {
        "id": "YCUmTl1UyiHA",
        "colab_type": "code",
        "colab": {
          "base_uri": "https://localhost:8080/",
          "height": 85
        },
        "outputId": "53f53577-c146-49b8-fdcd-af1b4a8e8191"
      },
      "source": [
        "data.index.year.value_counts(dropna=False)"
      ],
      "execution_count": 22,
      "outputs": [
        {
          "output_type": "execute_result",
          "data": {
            "text/plain": [
              "2019.0    86376\n",
              "NaN         186\n",
              "2018.0        1\n",
              "Name: date, dtype: int64"
            ]
          },
          "metadata": {
            "tags": []
          },
          "execution_count": 22
        }
      ]
    },
    {
      "cell_type": "code",
      "metadata": {
        "id": "oSy6gPHSyiHG",
        "colab_type": "code",
        "colab": {
          "base_uri": "https://localhost:8080/",
          "height": 296
        },
        "outputId": "eab67796-03b2-4609-d090-295abfe36a2c"
      },
      "source": [
        "# plt.figure(figsize=(15,8))\n",
        "sns.countplot(y=data['intgrtd_mngmt_name'])"
      ],
      "execution_count": 23,
      "outputs": [
        {
          "output_type": "execute_result",
          "data": {
            "text/plain": [
              "<matplotlib.axes._subplots.AxesSubplot at 0x7f2934753c18>"
            ]
          },
          "metadata": {
            "tags": []
          },
          "execution_count": 23
        },
        {
          "output_type": "display_data",
          "data": {
            "image/png": "[encoded data removed]",
            "text/plain": [
              "<Figure size 432x288 with 1 Axes>"
            ]
          },
          "metadata": {
            "tags": [],
            "needs_background": "light"
          }
        }
      ]
    },
    {
      "cell_type": "markdown",
      "metadata": {
        "id": "70vDo5tUyiHQ",
        "colab_type": "text"
      },
      "source": [
        "### Pivot & Pivot table example"
      ]
    },
    {
      "cell_type": "code",
      "metadata": {
        "id": "6jfrHbS8yiHR",
        "colab_type": "code",
        "colab": {
          "base_uri": "https://localhost:8080/",
          "height": 173
        },
        "outputId": "43433c52-085a-423a-a09f-c2d5b9d7079b"
      },
      "source": [
        "from collections import OrderedDict\n",
        "table = OrderedDict((\n",
        "    (\"Item\", ['Item0', 'Item0', 'Item0', 'Item1']),\n",
        "    ('CType',['Gold', 'Bronze', 'Gold', 'Silver']),\n",
        "    ('USD',  ['1',  '2',  '3',  '4']),\n",
        "    ('EU',   ['1€', '2€', '3€', '4€'])\n",
        "))\n",
        "d = pd.DataFrame(table)\n",
        "d"
      ],
      "execution_count": 25,
      "outputs": [
        {
          "output_type": "execute_result",
          "data": {
            "text/html": [
              "<div>\n",
              "<style scoped>\n",
              "    .dataframe tbody tr th:only-of-type {\n",
              "        vertical-align: middle;\n",
              "    }\n",
              "\n",
              "    .dataframe tbody tr th {\n",
              "        vertical-align: top;\n",
              "    }\n",
              "\n",
              "    .dataframe thead th {\n",
              "        text-align: right;\n",
              "    }\n",
              "</style>\n",
              "<table border=\"1\" class=\"dataframe\">\n",
              "  <thead>\n",
              "    <tr style=\"text-align: right;\">\n",
              "      <th></th>\n",
              "      <th>Item</th>\n",
              "      <th>CType</th>\n",
              "      <th>USD</th>\n",
              "      <th>EU</th>\n",
              "    </tr>\n",
              "  </thead>\n",
              "  <tbody>\n",
              "    <tr>\n",
              "      <th>0</th>\n",
              "      <td>Item0</td>\n",
              "      <td>Gold</td>\n",
              "      <td>1</td>\n",
              "      <td>1€</td>\n",
              "    </tr>\n",
              "    <tr>\n",
              "      <th>1</th>\n",
              "      <td>Item0</td>\n",
              "      <td>Bronze</td>\n",
              "      <td>2</td>\n",
              "      <td>2€</td>\n",
              "    </tr>\n",
              "    <tr>\n",
              "      <th>2</th>\n",
              "      <td>Item0</td>\n",
              "      <td>Gold</td>\n",
              "      <td>3</td>\n",
              "      <td>3€</td>\n",
              "    </tr>\n",
              "    <tr>\n",
              "      <th>3</th>\n",
              "      <td>Item1</td>\n",
              "      <td>Silver</td>\n",
              "      <td>4</td>\n",
              "      <td>4€</td>\n",
              "    </tr>\n",
              "  </tbody>\n",
              "</table>\n",
              "</div>"
            ],
            "text/plain": [
              "    Item   CType USD  EU\n",
              "0  Item0    Gold   1  1€\n",
              "1  Item0  Bronze   2  2€\n",
              "2  Item0    Gold   3  3€\n",
              "3  Item1  Silver   4  4€"
            ]
          },
          "metadata": {
            "tags": []
          },
          "execution_count": 25
        }
      ]
    },
    {
      "cell_type": "code",
      "metadata": {
        "id": "3JMnriE-yiHc",
        "colab_type": "code",
        "colab": {
          "base_uri": "https://localhost:8080/",
          "height": 306
        },
        "outputId": "1a478717-ab6a-43e3-f1be-264375029092"
      },
      "source": [
        "p = d.pivot(index='Item', columns='CType', values='USD')"
      ],
      "execution_count": 26,
      "outputs": [
        {
          "output_type": "error",
          "ename": "ValueError",
          "evalue": "ignored",
          "traceback": [
            "\u001b[0;31m---------------------------------------------------------------------------\u001b[0m",
            "\u001b[0;31mValueError\u001b[0m                                Traceback (most recent call last)",
            "\u001b[0;32m<ipython-input-26-415069b2054a>\u001b[0m in \u001b[0;36m<module>\u001b[0;34m()\u001b[0m\n\u001b[0;32m----> 1\u001b[0;31m \u001b[0mp\u001b[0m \u001b[0;34m=\u001b[0m \u001b[0md\u001b[0m\u001b[0;34m.\u001b[0m\u001b[0mpivot\u001b[0m\u001b[0;34m(\u001b[0m\u001b[0mindex\u001b[0m\u001b[0;34m=\u001b[0m\u001b[0;34m'Item'\u001b[0m\u001b[0;34m,\u001b[0m \u001b[0mcolumns\u001b[0m\u001b[0;34m=\u001b[0m\u001b[0;34m'CType'\u001b[0m\u001b[0;34m,\u001b[0m \u001b[0mvalues\u001b[0m\u001b[0;34m=\u001b[0m\u001b[0;34m'USD'\u001b[0m\u001b[0;34m)\u001b[0m\u001b[0;34m\u001b[0m\u001b[0;34m\u001b[0m\u001b[0m\n\u001b[0m",
            "\u001b[0;32m/usr/local/lib/python3.6/dist-packages/pandas/core/frame.py\u001b[0m in \u001b[0;36mpivot\u001b[0;34m(self, index, columns, values)\u001b[0m\n\u001b[1;32m   5921\u001b[0m         \u001b[0;32mfrom\u001b[0m \u001b[0mpandas\u001b[0m\u001b[0;34m.\u001b[0m\u001b[0mcore\u001b[0m\u001b[0;34m.\u001b[0m\u001b[0mreshape\u001b[0m\u001b[0;34m.\u001b[0m\u001b[0mpivot\u001b[0m \u001b[0;32mimport\u001b[0m \u001b[0mpivot\u001b[0m\u001b[0;34m\u001b[0m\u001b[0;34m\u001b[0m\u001b[0m\n\u001b[1;32m   5922\u001b[0m \u001b[0;34m\u001b[0m\u001b[0m\n\u001b[0;32m-> 5923\u001b[0;31m         \u001b[0;32mreturn\u001b[0m \u001b[0mpivot\u001b[0m\u001b[0;34m(\u001b[0m\u001b[0mself\u001b[0m\u001b[0;34m,\u001b[0m \u001b[0mindex\u001b[0m\u001b[0;34m=\u001b[0m\u001b[0mindex\u001b[0m\u001b[0;34m,\u001b[0m \u001b[0mcolumns\u001b[0m\u001b[0;34m=\u001b[0m\u001b[0mcolumns\u001b[0m\u001b[0;34m,\u001b[0m \u001b[0mvalues\u001b[0m\u001b[0;34m=\u001b[0m\u001b[0mvalues\u001b[0m\u001b[0;34m)\u001b[0m\u001b[0;34m\u001b[0m\u001b[0;34m\u001b[0m\u001b[0m\n\u001b[0m\u001b[1;32m   5924\u001b[0m \u001b[0;34m\u001b[0m\u001b[0m\n\u001b[1;32m   5925\u001b[0m     _shared_docs[\n",
            "\u001b[0;32m/usr/local/lib/python3.6/dist-packages/pandas/core/reshape/pivot.py\u001b[0m in \u001b[0;36mpivot\u001b[0;34m(data, index, columns, values)\u001b[0m\n\u001b[1;32m    448\u001b[0m         \u001b[0;32melse\u001b[0m\u001b[0;34m:\u001b[0m\u001b[0;34m\u001b[0m\u001b[0;34m\u001b[0m\u001b[0m\n\u001b[1;32m    449\u001b[0m             \u001b[0mindexed\u001b[0m \u001b[0;34m=\u001b[0m \u001b[0mdata\u001b[0m\u001b[0;34m.\u001b[0m\u001b[0m_constructor_sliced\u001b[0m\u001b[0;34m(\u001b[0m\u001b[0mdata\u001b[0m\u001b[0;34m[\u001b[0m\u001b[0mvalues\u001b[0m\u001b[0;34m]\u001b[0m\u001b[0;34m.\u001b[0m\u001b[0mvalues\u001b[0m\u001b[0;34m,\u001b[0m \u001b[0mindex\u001b[0m\u001b[0;34m=\u001b[0m\u001b[0mindex\u001b[0m\u001b[0;34m)\u001b[0m\u001b[0;34m\u001b[0m\u001b[0;34m\u001b[0m\u001b[0m\n\u001b[0;32m--> 450\u001b[0;31m     \u001b[0;32mreturn\u001b[0m \u001b[0mindexed\u001b[0m\u001b[0;34m.\u001b[0m\u001b[0munstack\u001b[0m\u001b[0;34m(\u001b[0m\u001b[0mcolumns\u001b[0m\u001b[0;34m)\u001b[0m\u001b[0;34m\u001b[0m\u001b[0;34m\u001b[0m\u001b[0m\n\u001b[0m\u001b[1;32m    451\u001b[0m \u001b[0;34m\u001b[0m\u001b[0m\n\u001b[1;32m    452\u001b[0m \u001b[0;34m\u001b[0m\u001b[0m\n",
            "\u001b[0;32m/usr/local/lib/python3.6/dist-packages/pandas/core/series.py\u001b[0m in \u001b[0;36munstack\u001b[0;34m(self, level, fill_value)\u001b[0m\n\u001b[1;32m   3548\u001b[0m         \u001b[0;32mfrom\u001b[0m \u001b[0mpandas\u001b[0m\u001b[0;34m.\u001b[0m\u001b[0mcore\u001b[0m\u001b[0;34m.\u001b[0m\u001b[0mreshape\u001b[0m\u001b[0;34m.\u001b[0m\u001b[0mreshape\u001b[0m \u001b[0;32mimport\u001b[0m \u001b[0munstack\u001b[0m\u001b[0;34m\u001b[0m\u001b[0;34m\u001b[0m\u001b[0m\n\u001b[1;32m   3549\u001b[0m \u001b[0;34m\u001b[0m\u001b[0m\n\u001b[0;32m-> 3550\u001b[0;31m         \u001b[0;32mreturn\u001b[0m \u001b[0munstack\u001b[0m\u001b[0;34m(\u001b[0m\u001b[0mself\u001b[0m\u001b[0;34m,\u001b[0m \u001b[0mlevel\u001b[0m\u001b[0;34m,\u001b[0m \u001b[0mfill_value\u001b[0m\u001b[0;34m)\u001b[0m\u001b[0;34m\u001b[0m\u001b[0;34m\u001b[0m\u001b[0m\n\u001b[0m\u001b[1;32m   3551\u001b[0m \u001b[0;34m\u001b[0m\u001b[0m\n\u001b[1;32m   3552\u001b[0m     \u001b[0;31m# ----------------------------------------------------------------------\u001b[0m\u001b[0;34m\u001b[0m\u001b[0;34m\u001b[0m\u001b[0;34m\u001b[0m\u001b[0m\n",
            "\u001b[0;32m/usr/local/lib/python3.6/dist-packages/pandas/core/reshape/reshape.py\u001b[0m in \u001b[0;36munstack\u001b[0;34m(obj, level, fill_value)\u001b[0m\n\u001b[1;32m    417\u001b[0m             \u001b[0mlevel\u001b[0m\u001b[0;34m=\u001b[0m\u001b[0mlevel\u001b[0m\u001b[0;34m,\u001b[0m\u001b[0;34m\u001b[0m\u001b[0;34m\u001b[0m\u001b[0m\n\u001b[1;32m    418\u001b[0m             \u001b[0mfill_value\u001b[0m\u001b[0;34m=\u001b[0m\u001b[0mfill_value\u001b[0m\u001b[0;34m,\u001b[0m\u001b[0;34m\u001b[0m\u001b[0;34m\u001b[0m\u001b[0m\n\u001b[0;32m--> 419\u001b[0;31m             \u001b[0mconstructor\u001b[0m\u001b[0;34m=\u001b[0m\u001b[0mobj\u001b[0m\u001b[0;34m.\u001b[0m\u001b[0m_constructor_expanddim\u001b[0m\u001b[0;34m,\u001b[0m\u001b[0;34m\u001b[0m\u001b[0;34m\u001b[0m\u001b[0m\n\u001b[0m\u001b[1;32m    420\u001b[0m         )\n\u001b[1;32m    421\u001b[0m         \u001b[0;32mreturn\u001b[0m \u001b[0munstacker\u001b[0m\u001b[0;34m.\u001b[0m\u001b[0mget_result\u001b[0m\u001b[0;34m(\u001b[0m\u001b[0;34m)\u001b[0m\u001b[0;34m\u001b[0m\u001b[0;34m\u001b[0m\u001b[0m\n",
            "\u001b[0;32m/usr/local/lib/python3.6/dist-packages/pandas/core/reshape/reshape.py\u001b[0m in \u001b[0;36m__init__\u001b[0;34m(self, values, index, level, value_columns, fill_value, constructor)\u001b[0m\n\u001b[1;32m    139\u001b[0m \u001b[0;34m\u001b[0m\u001b[0m\n\u001b[1;32m    140\u001b[0m         \u001b[0mself\u001b[0m\u001b[0;34m.\u001b[0m\u001b[0m_make_sorted_values_labels\u001b[0m\u001b[0;34m(\u001b[0m\u001b[0;34m)\u001b[0m\u001b[0;34m\u001b[0m\u001b[0;34m\u001b[0m\u001b[0m\n\u001b[0;32m--> 141\u001b[0;31m         \u001b[0mself\u001b[0m\u001b[0;34m.\u001b[0m\u001b[0m_make_selectors\u001b[0m\u001b[0;34m(\u001b[0m\u001b[0;34m)\u001b[0m\u001b[0;34m\u001b[0m\u001b[0;34m\u001b[0m\u001b[0m\n\u001b[0m\u001b[1;32m    142\u001b[0m \u001b[0;34m\u001b[0m\u001b[0m\n\u001b[1;32m    143\u001b[0m     \u001b[0;32mdef\u001b[0m \u001b[0m_make_sorted_values_labels\u001b[0m\u001b[0;34m(\u001b[0m\u001b[0mself\u001b[0m\u001b[0;34m)\u001b[0m\u001b[0;34m:\u001b[0m\u001b[0;34m\u001b[0m\u001b[0;34m\u001b[0m\u001b[0m\n",
            "\u001b[0;32m/usr/local/lib/python3.6/dist-packages/pandas/core/reshape/reshape.py\u001b[0m in \u001b[0;36m_make_selectors\u001b[0;34m(self)\u001b[0m\n\u001b[1;32m    177\u001b[0m \u001b[0;34m\u001b[0m\u001b[0m\n\u001b[1;32m    178\u001b[0m         \u001b[0;32mif\u001b[0m \u001b[0mmask\u001b[0m\u001b[0;34m.\u001b[0m\u001b[0msum\u001b[0m\u001b[0;34m(\u001b[0m\u001b[0;34m)\u001b[0m \u001b[0;34m<\u001b[0m \u001b[0mlen\u001b[0m\u001b[0;34m(\u001b[0m\u001b[0mself\u001b[0m\u001b[0;34m.\u001b[0m\u001b[0mindex\u001b[0m\u001b[0;34m)\u001b[0m\u001b[0;34m:\u001b[0m\u001b[0;34m\u001b[0m\u001b[0;34m\u001b[0m\u001b[0m\n\u001b[0;32m--> 179\u001b[0;31m             \u001b[0;32mraise\u001b[0m \u001b[0mValueError\u001b[0m\u001b[0;34m(\u001b[0m\u001b[0;34m\"Index contains duplicate entries, cannot reshape\"\u001b[0m\u001b[0;34m)\u001b[0m\u001b[0;34m\u001b[0m\u001b[0;34m\u001b[0m\u001b[0m\n\u001b[0m\u001b[1;32m    180\u001b[0m \u001b[0;34m\u001b[0m\u001b[0m\n\u001b[1;32m    181\u001b[0m         \u001b[0mself\u001b[0m\u001b[0;34m.\u001b[0m\u001b[0mgroup_index\u001b[0m \u001b[0;34m=\u001b[0m \u001b[0mcomp_index\u001b[0m\u001b[0;34m\u001b[0m\u001b[0;34m\u001b[0m\u001b[0m\n",
            "\u001b[0;31mValueError\u001b[0m: Index contains duplicate entries, cannot reshape"
          ]
        }
      ]
    },
    {
      "cell_type": "markdown",
      "metadata": {
        "id": "9NqoVHPcyiHn",
        "colab_type": "text"
      },
      "source": [
        "##### We cannot use pivot here as the column `CType` has `Gold` more than once so the function will get confused and will not understand which value of `USD` to put ie `1` or `3`. So we get the error that `ValueError: Index contains duplicate entries, cannot reshape`.\n",
        "##### So in such as case where we have duplicate values in a column which is used  as a `columns` parameter in `pivot` the we should use `pivot_table` as it allows us to perform aggregation on that duplicate value"
      ]
    },
    {
      "cell_type": "code",
      "metadata": {
        "id": "kJfiOY3LyiHp",
        "colab_type": "code",
        "colab": {}
      },
      "source": [
        "d['USD'] = d['USD'].astype('int')\n",
        "# d['USD'] = d['USD'].astype('int')"
      ],
      "execution_count": 27,
      "outputs": []
    },
    {
      "cell_type": "code",
      "metadata": {
        "id": "pvL79q3UyiHy",
        "colab_type": "code",
        "colab": {
          "base_uri": "https://localhost:8080/",
          "height": 173
        },
        "outputId": "95fb7958-3f8d-4f6e-b902-c45c2bfc4ec5"
      },
      "source": [
        "d.pivot_table(index='CType', columns='Item', values='USD', aggfunc='sum')"
      ],
      "execution_count": 28,
      "outputs": [
        {
          "output_type": "execute_result",
          "data": {
            "text/html": [
              "<div>\n",
              "<style scoped>\n",
              "    .dataframe tbody tr th:only-of-type {\n",
              "        vertical-align: middle;\n",
              "    }\n",
              "\n",
              "    .dataframe tbody tr th {\n",
              "        vertical-align: top;\n",
              "    }\n",
              "\n",
              "    .dataframe thead th {\n",
              "        text-align: right;\n",
              "    }\n",
              "</style>\n",
              "<table border=\"1\" class=\"dataframe\">\n",
              "  <thead>\n",
              "    <tr style=\"text-align: right;\">\n",
              "      <th>Item</th>\n",
              "      <th>Item0</th>\n",
              "      <th>Item1</th>\n",
              "    </tr>\n",
              "    <tr>\n",
              "      <th>CType</th>\n",
              "      <th></th>\n",
              "      <th></th>\n",
              "    </tr>\n",
              "  </thead>\n",
              "  <tbody>\n",
              "    <tr>\n",
              "      <th>Bronze</th>\n",
              "      <td>2.0</td>\n",
              "      <td>NaN</td>\n",
              "    </tr>\n",
              "    <tr>\n",
              "      <th>Gold</th>\n",
              "      <td>4.0</td>\n",
              "      <td>NaN</td>\n",
              "    </tr>\n",
              "    <tr>\n",
              "      <th>Silver</th>\n",
              "      <td>NaN</td>\n",
              "      <td>4.0</td>\n",
              "    </tr>\n",
              "  </tbody>\n",
              "</table>\n",
              "</div>"
            ],
            "text/plain": [
              "Item    Item0  Item1\n",
              "CType               \n",
              "Bronze    2.0    NaN\n",
              "Gold      4.0    NaN\n",
              "Silver    NaN    4.0"
            ]
          },
          "metadata": {
            "tags": []
          },
          "execution_count": 28
        }
      ]
    },
    {
      "cell_type": "markdown",
      "metadata": {
        "id": "L7K3JHAEyiH6",
        "colab_type": "text"
      },
      "source": [
        "#### Visualise number of visits for top 20 countries"
      ]
    },
    {
      "cell_type": "code",
      "metadata": {
        "id": "rAqT_XOsyiH7",
        "colab_type": "code",
        "colab": {}
      },
      "source": [
        "country_vists = data.groupby(['ctry_name'])['VISIT'].sum()"
      ],
      "execution_count": 58,
      "outputs": []
    },
    {
      "cell_type": "code",
      "metadata": {
        "id": "9HDIDsJGyiID",
        "colab_type": "code",
        "colab": {}
      },
      "source": [
        "country_vists = country_vists.reset_index()"
      ],
      "execution_count": 59,
      "outputs": []
    },
    {
      "cell_type": "code",
      "metadata": {
        "id": "ljonhT98yiIP",
        "colab_type": "code",
        "colab": {
          "base_uri": "https://localhost:8080/",
          "height": 419
        },
        "outputId": "3fe2da15-0010-4990-d7b5-f5ad960e6083"
      },
      "source": [
        "country_vists"
      ],
      "execution_count": 60,
      "outputs": [
        {
          "output_type": "execute_result",
          "data": {
            "text/html": [
              "<div>\n",
              "<style scoped>\n",
              "    .dataframe tbody tr th:only-of-type {\n",
              "        vertical-align: middle;\n",
              "    }\n",
              "\n",
              "    .dataframe tbody tr th {\n",
              "        vertical-align: top;\n",
              "    }\n",
              "\n",
              "    .dataframe thead th {\n",
              "        text-align: right;\n",
              "    }\n",
              "</style>\n",
              "<table border=\"1\" class=\"dataframe\">\n",
              "  <thead>\n",
              "    <tr style=\"text-align: right;\">\n",
              "      <th></th>\n",
              "      <th>ctry_name</th>\n",
              "      <th>VISIT</th>\n",
              "    </tr>\n",
              "  </thead>\n",
              "  <tbody>\n",
              "    <tr>\n",
              "      <th>0</th>\n",
              "      <td>Afghanistan</td>\n",
              "      <td>14.0</td>\n",
              "    </tr>\n",
              "    <tr>\n",
              "      <th>1</th>\n",
              "      <td>Aland Islands</td>\n",
              "      <td>6.0</td>\n",
              "    </tr>\n",
              "    <tr>\n",
              "      <th>2</th>\n",
              "      <td>Albania</td>\n",
              "      <td>31.0</td>\n",
              "    </tr>\n",
              "    <tr>\n",
              "      <th>3</th>\n",
              "      <td>Algeria</td>\n",
              "      <td>61.0</td>\n",
              "    </tr>\n",
              "    <tr>\n",
              "      <th>4</th>\n",
              "      <td>Andorra</td>\n",
              "      <td>3.0</td>\n",
              "    </tr>\n",
              "    <tr>\n",
              "      <th>...</th>\n",
              "      <td>...</td>\n",
              "      <td>...</td>\n",
              "    </tr>\n",
              "    <tr>\n",
              "      <th>184</th>\n",
              "      <td>Viet Nam</td>\n",
              "      <td>415.0</td>\n",
              "    </tr>\n",
              "    <tr>\n",
              "      <th>185</th>\n",
              "      <td>Virgin Islands, British</td>\n",
              "      <td>1.0</td>\n",
              "    </tr>\n",
              "    <tr>\n",
              "      <th>186</th>\n",
              "      <td>Yemen</td>\n",
              "      <td>6.0</td>\n",
              "    </tr>\n",
              "    <tr>\n",
              "      <th>187</th>\n",
              "      <td>Zambia</td>\n",
              "      <td>14.0</td>\n",
              "    </tr>\n",
              "    <tr>\n",
              "      <th>188</th>\n",
              "      <td>Zimbabwe</td>\n",
              "      <td>14.0</td>\n",
              "    </tr>\n",
              "  </tbody>\n",
              "</table>\n",
              "<p>189 rows × 2 columns</p>\n",
              "</div>"
            ],
            "text/plain": [
              "                   ctry_name  VISIT\n",
              "0                Afghanistan   14.0\n",
              "1              Aland Islands    6.0\n",
              "2                    Albania   31.0\n",
              "3                    Algeria   61.0\n",
              "4                    Andorra    3.0\n",
              "..                       ...    ...\n",
              "184                 Viet Nam  415.0\n",
              "185  Virgin Islands, British    1.0\n",
              "186                    Yemen    6.0\n",
              "187                   Zambia   14.0\n",
              "188                 Zimbabwe   14.0\n",
              "\n",
              "[189 rows x 2 columns]"
            ]
          },
          "metadata": {
            "tags": []
          },
          "execution_count": 60
        }
      ]
    },
    {
      "cell_type": "code",
      "metadata": {
        "id": "gDtkMZn4yiIe",
        "colab_type": "code",
        "colab": {}
      },
      "source": [
        "country_vists.sort_values('VISIT', ascending=False, inplace=True)"
      ],
      "execution_count": 61,
      "outputs": []
    },
    {
      "cell_type": "code",
      "metadata": {
        "id": "YV-SUV0VyiIq",
        "colab_type": "code",
        "colab": {
          "base_uri": "https://localhost:8080/",
          "height": 68
        },
        "outputId": "7e1e721c-8ae2-4f47-998f-868cc2991302"
      },
      "source": [
        "country_vists.dtypes"
      ],
      "execution_count": 62,
      "outputs": [
        {
          "output_type": "execute_result",
          "data": {
            "text/plain": [
              "ctry_name     object\n",
              "VISIT        float64\n",
              "dtype: object"
            ]
          },
          "metadata": {
            "tags": []
          },
          "execution_count": 62
        }
      ]
    },
    {
      "cell_type": "code",
      "metadata": {
        "id": "UXsbABt8yiI8",
        "colab_type": "code",
        "colab": {
          "base_uri": "https://localhost:8080/",
          "height": 530
        },
        "outputId": "ad027481-bcf4-418f-af1a-a7a2369a6557"
      },
      "source": [
        "plt.figure(figsize=(15, 8))\n",
        "sns.barplot(y=country_vists['ctry_name'].head(20), x=country_vists['VISIT'].head(20))\n",
        "plt.ylabel('Country Name')\n",
        "plt.title('Country wise Visits')"
      ],
      "execution_count": 64,
      "outputs": [
        {
          "output_type": "execute_result",
          "data": {
            "text/plain": [
              "Text(0.5, 1.0, 'Country wise Visits')"
            ]
          },
          "metadata": {
            "tags": []
          },
          "execution_count": 64
        },
        {
          "output_type": "display_data",
          "data": {
            "image/png": "[encoded data removed]",
            "text/plain": [
              "<Figure size 1080x576 with 1 Axes>"
            ]
          },
          "metadata": {
            "tags": [],
            "needs_background": "light"
          }
        }
      ]
    },
    {
      "cell_type": "markdown",
      "metadata": {
        "id": "PjB1qvnRyiJH",
        "colab_type": "text"
      },
      "source": [
        "#### Same plot as above using `dataframe.plot.bar()`"
      ]
    },
    {
      "cell_type": "code",
      "metadata": {
        "id": "0KI-NdVwyiJJ",
        "colab_type": "code",
        "colab": {
          "base_uri": "https://localhost:8080/",
          "height": 384
        },
        "outputId": "33758c03-2069-486d-d2f3-cac92e64b3aa"
      },
      "source": [
        "country_vists.head(20).plot.bar(x='ctry_name', y='VISIT')"
      ],
      "execution_count": 35,
      "outputs": [
        {
          "output_type": "execute_result",
          "data": {
            "text/plain": [
              "<matplotlib.axes._subplots.AxesSubplot at 0x7f2933f7eac8>"
            ]
          },
          "metadata": {
            "tags": []
          },
          "execution_count": 35
        },
        {
          "output_type": "display_data",
          "data": {
            "image/png": "[encoded data removed]",
            "text/plain": [
              "<Figure size 432x288 with 1 Axes>"
            ]
          },
          "metadata": {
            "tags": [],
            "needs_background": "light"
          }
        }
      ]
    },
    {
      "cell_type": "markdown",
      "metadata": {
        "id": "hMGmXcgD3MHG",
        "colab_type": "text"
      },
      "source": [
        "## Visualize country wise traffic"
      ]
    },
    {
      "cell_type": "code",
      "metadata": {
        "id": "7MkEf1XhyiJU",
        "colab_type": "code",
        "colab": {
          "base_uri": "https://localhost:8080/",
          "height": 235
        },
        "outputId": "34c71f4b-447e-4af5-b371-8cbdc160a661"
      },
      "source": [
        "country_traffic = data.pivot_table(index='ctry_name', values='ip_addr', aggfunc='count')\n",
        "\n",
        "# country_traffic.sort_values(by='ip_addr', ascending=False, inplace=True)\n",
        "\n",
        "country_traffic.nlargest(5, 'ip_addr')"
      ],
      "execution_count": 53,
      "outputs": [
        {
          "output_type": "execute_result",
          "data": {
            "text/html": [
              "<div>\n",
              "<style scoped>\n",
              "    .dataframe tbody tr th:only-of-type {\n",
              "        vertical-align: middle;\n",
              "    }\n",
              "\n",
              "    .dataframe tbody tr th {\n",
              "        vertical-align: top;\n",
              "    }\n",
              "\n",
              "    .dataframe thead th {\n",
              "        text-align: right;\n",
              "    }\n",
              "</style>\n",
              "<table border=\"1\" class=\"dataframe\">\n",
              "  <thead>\n",
              "    <tr style=\"text-align: right;\">\n",
              "      <th></th>\n",
              "      <th>ip_addr</th>\n",
              "    </tr>\n",
              "    <tr>\n",
              "      <th>ctry_name</th>\n",
              "      <th></th>\n",
              "    </tr>\n",
              "  </thead>\n",
              "  <tbody>\n",
              "    <tr>\n",
              "      <th>United States</th>\n",
              "      <td>25772</td>\n",
              "    </tr>\n",
              "    <tr>\n",
              "      <th>India</th>\n",
              "      <td>7792</td>\n",
              "    </tr>\n",
              "    <tr>\n",
              "      <th>Japan</th>\n",
              "      <td>5282</td>\n",
              "    </tr>\n",
              "    <tr>\n",
              "      <th>China</th>\n",
              "      <td>3649</td>\n",
              "    </tr>\n",
              "    <tr>\n",
              "      <th>United Kingdom</th>\n",
              "      <td>3607</td>\n",
              "    </tr>\n",
              "  </tbody>\n",
              "</table>\n",
              "</div>"
            ],
            "text/plain": [
              "                ip_addr\n",
              "ctry_name              \n",
              "United States     25772\n",
              "India              7792\n",
              "Japan              5282\n",
              "China              3649\n",
              "United Kingdom     3607"
            ]
          },
          "metadata": {
            "tags": []
          },
          "execution_count": 53
        }
      ]
    },
    {
      "cell_type": "code",
      "metadata": {
        "id": "A5WS5u9ryiJd",
        "colab_type": "code",
        "colab": {
          "base_uri": "https://localhost:8080/",
          "height": 531
        },
        "outputId": "8b01a14e-3b11-4667-93d0-085965a7c35c"
      },
      "source": [
        "plt.figure(figsize=(15, 8))\n",
        "sns.barplot(x=country_traffic.nlargest(20, 'ip_addr').ip_addr, y=country_traffic.nlargest(20, 'ip_addr').index)\n",
        "plt.ylabel('Counrty name')\n",
        "plt.title('Country wise Traffic')"
      ],
      "execution_count": 56,
      "outputs": [
        {
          "output_type": "execute_result",
          "data": {
            "text/plain": [
              "Text(0.5, 1.0, 'Country wise Traffic')"
            ]
          },
          "metadata": {
            "tags": []
          },
          "execution_count": 56
        },
        {
          "output_type": "display_data",
          "data": {
            "image/png": "[encoded data removed]",
            "text/plain": [
              "<Figure size 1080x576 with 1 Axes>"
            ]
          },
          "metadata": {
            "tags": [],
            "needs_background": "light"
          }
        }
      ]
    },
    {
      "cell_type": "code",
      "metadata": {
        "id": "agL-ZWHH3D-T",
        "colab_type": "code",
        "colab": {}
      },
      "source": [
        ""
      ],
      "execution_count": null,
      "outputs": []
    }
  ]
}