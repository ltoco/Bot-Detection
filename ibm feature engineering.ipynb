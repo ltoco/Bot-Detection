{
 "cells": [
  {
   "cell_type": "code",
   "execution_count": 96,
   "metadata": {},
   "outputs": [],
   "source": [
    "import pandas as pd\n",
    "import numpy as np\n",
    "import seaborn as sns\n",
    "import matplotlib.pyplot as plt"
   ]
  },
  {
   "cell_type": "code",
   "execution_count": 2,
   "metadata": {},
   "outputs": [
    {
     "data": {
      "text/html": [
       "<div>\n",
       "<style scoped>\n",
       "    .dataframe tbody tr th:only-of-type {\n",
       "        vertical-align: middle;\n",
       "    }\n",
       "\n",
       "    .dataframe tbody tr th {\n",
       "        vertical-align: top;\n",
       "    }\n",
       "\n",
       "    .dataframe thead th {\n",
       "        text-align: right;\n",
       "    }\n",
       "</style>\n",
       "<table border=\"1\" class=\"dataframe\">\n",
       "  <thead>\n",
       "    <tr style=\"text-align: right;\">\n",
       "      <th></th>\n",
       "      <th>Unnamed: 0</th>\n",
       "      <th>ctry_name</th>\n",
       "      <th>intgrtd_mngmt_name</th>\n",
       "      <th>intgrtd_operating_team_name</th>\n",
       "      <th>city</th>\n",
       "      <th>st</th>\n",
       "      <th>sec_lvl_domn</th>\n",
       "      <th>device_type</th>\n",
       "      <th>operating_sys</th>\n",
       "      <th>ip_addr</th>\n",
       "      <th>user_agent</th>\n",
       "      <th>VISIT</th>\n",
       "      <th>ENGD_VISIT</th>\n",
       "      <th>VIEWS</th>\n",
       "      <th>page_url</th>\n",
       "      <th>wk</th>\n",
       "      <th>mth</th>\n",
       "      <th>yr</th>\n",
       "      <th>page_vw_ts</th>\n",
       "    </tr>\n",
       "  </thead>\n",
       "  <tbody>\n",
       "    <tr>\n",
       "      <th>0</th>\n",
       "      <td>0</td>\n",
       "      <td>United States</td>\n",
       "      <td>United States</td>\n",
       "      <td>North America</td>\n",
       "      <td>SLIDELL</td>\n",
       "      <td>LOUISIANA</td>\n",
       "      <td>CHARTER.COM</td>\n",
       "      <td>MOBILEPHONE</td>\n",
       "      <td>IOS_12.1.4</td>\n",
       "      <td>287e8e9aeedb50e963906f10cca7ca26ae830154e69220...</td>\n",
       "      <td>MOZILLA/5.0 (IPHONE; CPU IPHONE OS 12_1_4 LIKE...</td>\n",
       "      <td>1</td>\n",
       "      <td>0</td>\n",
       "      <td>1</td>\n",
       "      <td>www.ibm.com/watson/campaign</td>\n",
       "      <td>11</td>\n",
       "      <td>3</td>\n",
       "      <td>2019</td>\n",
       "      <td>2019-06-04 05:05:18.023100</td>\n",
       "    </tr>\n",
       "    <tr>\n",
       "      <th>1</th>\n",
       "      <td>1</td>\n",
       "      <td>Japan</td>\n",
       "      <td>Japan</td>\n",
       "      <td>Japan</td>\n",
       "      <td>TOKYO</td>\n",
       "      <td>TOKYO</td>\n",
       "      <td>MOPERA.NET</td>\n",
       "      <td>TABLET</td>\n",
       "      <td>ANDROID_6.0</td>\n",
       "      <td>d7746df5cc2de7f79584d57c2c082b9acc7697602021a1...</td>\n",
       "      <td>MOZILLA/5.0 (LINUX; ANDROID 6.0; D-01J BUILD/H...</td>\n",
       "      <td>1</td>\n",
       "      <td>0</td>\n",
       "      <td>1</td>\n",
       "      <td>www.ibm.com/privacy/us/en</td>\n",
       "      <td>11</td>\n",
       "      <td>3</td>\n",
       "      <td>2019</td>\n",
       "      <td>2019-06-04 05:07:11.014300</td>\n",
       "    </tr>\n",
       "    <tr>\n",
       "      <th>2</th>\n",
       "      <td>2</td>\n",
       "      <td>United States</td>\n",
       "      <td>United States</td>\n",
       "      <td>North America</td>\n",
       "      <td>ELK GROVE</td>\n",
       "      <td>CALIFORNIA</td>\n",
       "      <td>COMCASTBUSINESS.NET</td>\n",
       "      <td>MOBILEPHONE</td>\n",
       "      <td>IOS_12.1.2</td>\n",
       "      <td>8540464f5f376c7a160d63632f8cbedc96c61158daf9ae...</td>\n",
       "      <td>MOZILLA/5.0 (IPHONE; CPU IPHONE OS 12_1_2 LIKE...</td>\n",
       "      <td>1</td>\n",
       "      <td>0</td>\n",
       "      <td>1</td>\n",
       "      <td>www.ibm.com/account/reg/us-en/signup?formid=ur...</td>\n",
       "      <td>11</td>\n",
       "      <td>3</td>\n",
       "      <td>2019</td>\n",
       "      <td>2019-06-04 05:08:46.081900</td>\n",
       "    </tr>\n",
       "  </tbody>\n",
       "</table>\n",
       "</div>"
      ],
      "text/plain": [
       "   Unnamed: 0      ctry_name intgrtd_mngmt_name intgrtd_operating_team_name  \\\n",
       "0           0  United States      United States               North America   \n",
       "1           1          Japan              Japan                       Japan   \n",
       "2           2  United States      United States               North America   \n",
       "\n",
       "        city          st         sec_lvl_domn  device_type operating_sys  \\\n",
       "0    SLIDELL   LOUISIANA          CHARTER.COM  MOBILEPHONE    IOS_12.1.4   \n",
       "1      TOKYO       TOKYO           MOPERA.NET       TABLET   ANDROID_6.0   \n",
       "2  ELK GROVE  CALIFORNIA  COMCASTBUSINESS.NET  MOBILEPHONE    IOS_12.1.2   \n",
       "\n",
       "                                             ip_addr  \\\n",
       "0  287e8e9aeedb50e963906f10cca7ca26ae830154e69220...   \n",
       "1  d7746df5cc2de7f79584d57c2c082b9acc7697602021a1...   \n",
       "2  8540464f5f376c7a160d63632f8cbedc96c61158daf9ae...   \n",
       "\n",
       "                                          user_agent  VISIT  ENGD_VISIT  \\\n",
       "0  MOZILLA/5.0 (IPHONE; CPU IPHONE OS 12_1_4 LIKE...      1           0   \n",
       "1  MOZILLA/5.0 (LINUX; ANDROID 6.0; D-01J BUILD/H...      1           0   \n",
       "2  MOZILLA/5.0 (IPHONE; CPU IPHONE OS 12_1_2 LIKE...      1           0   \n",
       "\n",
       "   VIEWS                                           page_url  wk  mth    yr  \\\n",
       "0      1                        www.ibm.com/watson/campaign  11    3  2019   \n",
       "1      1                          www.ibm.com/privacy/us/en  11    3  2019   \n",
       "2      1  www.ibm.com/account/reg/us-en/signup?formid=ur...  11    3  2019   \n",
       "\n",
       "                   page_vw_ts  \n",
       "0  2019-06-04 05:05:18.023100  \n",
       "1  2019-06-04 05:07:11.014300  \n",
       "2  2019-06-04 05:08:46.081900  "
      ]
     },
     "execution_count": 2,
     "metadata": {},
     "output_type": "execute_result"
    }
   ],
   "source": [
    "df = pd.read_csv('ibm_data.csv')\n",
    "df.head(3)"
   ]
  },
  {
   "cell_type": "code",
   "execution_count": 3,
   "metadata": {},
   "outputs": [
    {
     "data": {
      "text/plain": [
       "(1048573, 19)"
      ]
     },
     "execution_count": 3,
     "metadata": {},
     "output_type": "execute_result"
    }
   ],
   "source": [
    "df.shape"
   ]
  },
  {
   "cell_type": "code",
   "execution_count": 4,
   "metadata": {},
   "outputs": [
    {
     "data": {
      "text/plain": [
       "Unnamed: 0                          0\n",
       "ctry_name                           0\n",
       "intgrtd_mngmt_name                  0\n",
       "intgrtd_operating_team_name         0\n",
       "city                            46586\n",
       "st                              45445\n",
       "sec_lvl_domn                   319457\n",
       "device_type                    842041\n",
       "operating_sys                    1820\n",
       "ip_addr                             0\n",
       "user_agent                          6\n",
       "VISIT                               0\n",
       "ENGD_VISIT                          0\n",
       "VIEWS                               0\n",
       "page_url                            1\n",
       "wk                                  0\n",
       "mth                                 0\n",
       "yr                                  0\n",
       "page_vw_ts                       2743\n",
       "dtype: int64"
      ]
     },
     "execution_count": 4,
     "metadata": {},
     "output_type": "execute_result"
    }
   ],
   "source": [
    "df.isnull().sum()"
   ]
  },
  {
   "cell_type": "markdown",
   "metadata": {},
   "source": [
    "## Understanding the features\n",
    "\n",
    "#### 1. **User agent** - \n",
    "The User-Agent request header is a characteristic string that lets servers and network peers identify the application, operating system, vendor, and/or version of the requesting user agent.\n",
    "    \n",
    "   **Syntax -** \n",
    "    \n",
    "    User-Agent: <product> / <product-version> <comment>\n",
    "    \n",
    "   **Common format for browsers -**\n",
    "   \n",
    "    User-Agent: Mozilla/5.0 (<system-information>) <platform> (<platform-details>) <extensions>\n",
    "    \n",
    "   **Directives -** \n",
    "    \n",
    "    <product> - A product identifier — its name or development codename.\n",
    "    <product-version> - Version number of the product.\n",
    "    <comment> - Zero or more comments containing more details; sub-product information\n",
    "    \n",
    "[Source](https://developer.mozilla.org/en-US/docs/Web/HTTP/Headers/User-Agent)"
   ]
  },
  {
   "cell_type": "code",
   "execution_count": 5,
   "metadata": {},
   "outputs": [
    {
     "data": {
      "text/plain": [
       "'MOZILLA/5.0 (IPHONE; CPU IPHONE OS 12_1_4 LIKE MAC OS X) APPLEWEBKIT/605.1.15 (KHTML  LIKE GECKO) VERSION/12.0 MOBILE/15E148 SAFARI/604.1'"
      ]
     },
     "execution_count": 5,
     "metadata": {},
     "output_type": "execute_result"
    }
   ],
   "source": [
    "df.loc[0, 'user_agent']"
   ]
  },
  {
   "cell_type": "markdown",
   "metadata": {},
   "source": [
    "##### Replace missing `user_agent` with `unknown_user_agent`"
   ]
  },
  {
   "cell_type": "code",
   "execution_count": 6,
   "metadata": {},
   "outputs": [],
   "source": [
    "df['user_agent'].fillna('unknown_user_agent', inplace=True)"
   ]
  },
  {
   "cell_type": "code",
   "execution_count": 7,
   "metadata": {},
   "outputs": [
    {
     "data": {
      "text/plain": [
       "0"
      ]
     },
     "execution_count": 7,
     "metadata": {},
     "output_type": "execute_result"
    }
   ],
   "source": [
    "df['user_agent'].isnull().sum()"
   ]
  },
  {
   "cell_type": "markdown",
   "metadata": {},
   "source": [
    "##### Dropping missing `page_vw_ts`"
   ]
  },
  {
   "cell_type": "code",
   "execution_count": 8,
   "metadata": {},
   "outputs": [],
   "source": [
    "df['page_vw_ts'].dropna(inplace=True)"
   ]
  },
  {
   "cell_type": "code",
   "execution_count": 9,
   "metadata": {},
   "outputs": [
    {
     "data": {
      "text/plain": [
       "0"
      ]
     },
     "execution_count": 9,
     "metadata": {},
     "output_type": "execute_result"
    }
   ],
   "source": [
    "df['page_vw_ts'].isnull().sum()"
   ]
  },
  {
   "cell_type": "code",
   "execution_count": 10,
   "metadata": {},
   "outputs": [
    {
     "data": {
      "text/plain": [
       "(1048573, 19)"
      ]
     },
     "execution_count": 10,
     "metadata": {},
     "output_type": "execute_result"
    }
   ],
   "source": [
    "df.shape"
   ]
  },
  {
   "cell_type": "code",
   "execution_count": 11,
   "metadata": {},
   "outputs": [
    {
     "data": {
      "text/plain": [
       "Unnamed: 0                      int64\n",
       "ctry_name                      object\n",
       "intgrtd_mngmt_name             object\n",
       "intgrtd_operating_team_name    object\n",
       "city                           object\n",
       "st                             object\n",
       "sec_lvl_domn                   object\n",
       "device_type                    object\n",
       "operating_sys                  object\n",
       "ip_addr                        object\n",
       "user_agent                     object\n",
       "VISIT                           int64\n",
       "ENGD_VISIT                      int64\n",
       "VIEWS                           int64\n",
       "page_url                       object\n",
       "wk                              int64\n",
       "mth                             int64\n",
       "yr                              int64\n",
       "page_vw_ts                     object\n",
       "dtype: object"
      ]
     },
     "execution_count": 11,
     "metadata": {},
     "output_type": "execute_result"
    }
   ],
   "source": [
    "df.dtypes"
   ]
  },
  {
   "cell_type": "code",
   "execution_count": 12,
   "metadata": {},
   "outputs": [
    {
     "data": {
      "text/html": [
       "<div>\n",
       "<style scoped>\n",
       "    .dataframe tbody tr th:only-of-type {\n",
       "        vertical-align: middle;\n",
       "    }\n",
       "\n",
       "    .dataframe tbody tr th {\n",
       "        vertical-align: top;\n",
       "    }\n",
       "\n",
       "    .dataframe thead th {\n",
       "        text-align: right;\n",
       "    }\n",
       "</style>\n",
       "<table border=\"1\" class=\"dataframe\">\n",
       "  <thead>\n",
       "    <tr style=\"text-align: right;\">\n",
       "      <th></th>\n",
       "      <th>Unnamed: 0</th>\n",
       "      <th>ctry_name</th>\n",
       "      <th>intgrtd_mngmt_name</th>\n",
       "      <th>intgrtd_operating_team_name</th>\n",
       "      <th>city</th>\n",
       "      <th>st</th>\n",
       "      <th>sec_lvl_domn</th>\n",
       "      <th>device_type</th>\n",
       "      <th>operating_sys</th>\n",
       "      <th>ip_addr</th>\n",
       "      <th>user_agent</th>\n",
       "      <th>VISIT</th>\n",
       "      <th>ENGD_VISIT</th>\n",
       "      <th>VIEWS</th>\n",
       "      <th>page_url</th>\n",
       "      <th>wk</th>\n",
       "      <th>mth</th>\n",
       "      <th>yr</th>\n",
       "      <th>page_vw_ts</th>\n",
       "    </tr>\n",
       "  </thead>\n",
       "  <tbody>\n",
       "    <tr>\n",
       "      <th>683622</th>\n",
       "      <td>683622</td>\n",
       "      <td>Spain</td>\n",
       "      <td>SPGI</td>\n",
       "      <td>Europe</td>\n",
       "      <td>LA PENA</td>\n",
       "      <td>BIZKAIA</td>\n",
       "      <td>IBERDROLA.ES</td>\n",
       "      <td>NaN</td>\n",
       "      <td>MICROSOFT_WINDOWS10</td>\n",
       "      <td>8a5ffe72a67617842d23603a7ebfc741d9e285bf7a4235...</td>\n",
       "      <td>MOZILLA/5.0 (WINDOWS NT 10.0; WIN64; X64; RV:6...</td>\n",
       "      <td>1</td>\n",
       "      <td>0</td>\n",
       "      <td>1</td>\n",
       "      <td>www.ibm.com/developerworks/community/blogs/897...</td>\n",
       "      <td>11</td>\n",
       "      <td>3</td>\n",
       "      <td>2019</td>\n",
       "      <td>2019-06-04 14:47:27.010800</td>\n",
       "    </tr>\n",
       "    <tr>\n",
       "      <th>111988</th>\n",
       "      <td>111988</td>\n",
       "      <td>India</td>\n",
       "      <td>India-South Asia</td>\n",
       "      <td>Asia Pacific</td>\n",
       "      <td>PRAKASH NAGAR</td>\n",
       "      <td>TELANGANA</td>\n",
       "      <td>NaN</td>\n",
       "      <td>MOBILEPHONE</td>\n",
       "      <td>ANDROID_8.1.0</td>\n",
       "      <td>ad9df1c5ee2c7b97b609c9a8b7f4a15301d330e1623b80...</td>\n",
       "      <td>MOZILLA/5.0 (LINUX; ANDROID 8.1.0; VIVO 1806 B...</td>\n",
       "      <td>1</td>\n",
       "      <td>1</td>\n",
       "      <td>1</td>\n",
       "      <td>careers.ibm.com/showjob/id/544304/software%20e...</td>\n",
       "      <td>11</td>\n",
       "      <td>3</td>\n",
       "      <td>2019</td>\n",
       "      <td>2019-06-04 14:24:55.027000</td>\n",
       "    </tr>\n",
       "    <tr>\n",
       "      <th>909267</th>\n",
       "      <td>909267</td>\n",
       "      <td>United States</td>\n",
       "      <td>United States</td>\n",
       "      <td>North America</td>\n",
       "      <td>NASHVILLE</td>\n",
       "      <td>TENNESSEE</td>\n",
       "      <td>SBCGLOBAL.NET</td>\n",
       "      <td>NaN</td>\n",
       "      <td>MICROSOFT_WINDOWS10</td>\n",
       "      <td>8ce939fb3fa65c1b693fc407face16d1e4ebc45753e7db...</td>\n",
       "      <td>MOZILLA/5.0 (WINDOWS NT 10.0; WIN64; X64) APPL...</td>\n",
       "      <td>1</td>\n",
       "      <td>0</td>\n",
       "      <td>1</td>\n",
       "      <td>www.ibm.com/support/knowledgecenter/en/ssgu8g_...</td>\n",
       "      <td>11</td>\n",
       "      <td>3</td>\n",
       "      <td>2019</td>\n",
       "      <td>2019-06-04 19:18:53.094800</td>\n",
       "    </tr>\n",
       "  </tbody>\n",
       "</table>\n",
       "</div>"
      ],
      "text/plain": [
       "        Unnamed: 0      ctry_name intgrtd_mngmt_name  \\\n",
       "683622      683622          Spain               SPGI   \n",
       "111988      111988          India   India-South Asia   \n",
       "909267      909267  United States      United States   \n",
       "\n",
       "       intgrtd_operating_team_name           city         st   sec_lvl_domn  \\\n",
       "683622                      Europe        LA PENA    BIZKAIA   IBERDROLA.ES   \n",
       "111988                Asia Pacific  PRAKASH NAGAR  TELANGANA            NaN   \n",
       "909267               North America      NASHVILLE  TENNESSEE  SBCGLOBAL.NET   \n",
       "\n",
       "        device_type        operating_sys  \\\n",
       "683622          NaN  MICROSOFT_WINDOWS10   \n",
       "111988  MOBILEPHONE        ANDROID_8.1.0   \n",
       "909267          NaN  MICROSOFT_WINDOWS10   \n",
       "\n",
       "                                                  ip_addr  \\\n",
       "683622  8a5ffe72a67617842d23603a7ebfc741d9e285bf7a4235...   \n",
       "111988  ad9df1c5ee2c7b97b609c9a8b7f4a15301d330e1623b80...   \n",
       "909267  8ce939fb3fa65c1b693fc407face16d1e4ebc45753e7db...   \n",
       "\n",
       "                                               user_agent  VISIT  ENGD_VISIT  \\\n",
       "683622  MOZILLA/5.0 (WINDOWS NT 10.0; WIN64; X64; RV:6...      1           0   \n",
       "111988  MOZILLA/5.0 (LINUX; ANDROID 8.1.0; VIVO 1806 B...      1           1   \n",
       "909267  MOZILLA/5.0 (WINDOWS NT 10.0; WIN64; X64) APPL...      1           0   \n",
       "\n",
       "        VIEWS                                           page_url  wk  mth  \\\n",
       "683622      1  www.ibm.com/developerworks/community/blogs/897...  11    3   \n",
       "111988      1  careers.ibm.com/showjob/id/544304/software%20e...  11    3   \n",
       "909267      1  www.ibm.com/support/knowledgecenter/en/ssgu8g_...  11    3   \n",
       "\n",
       "          yr                  page_vw_ts  \n",
       "683622  2019  2019-06-04 14:47:27.010800  \n",
       "111988  2019  2019-06-04 14:24:55.027000  \n",
       "909267  2019  2019-06-04 19:18:53.094800  "
      ]
     },
     "execution_count": 12,
     "metadata": {},
     "output_type": "execute_result"
    }
   ],
   "source": [
    "df.sample(3)"
   ]
  },
  {
   "cell_type": "markdown",
   "metadata": {},
   "source": [
    "##### `device_type`, `sec_lvl_domn`  have too many nulls and also it won't be useful so dropping that column"
   ]
  },
  {
   "cell_type": "code",
   "execution_count": 13,
   "metadata": {},
   "outputs": [],
   "source": [
    "df.drop(['device_type', 'sec_lvl_domn'], axis=1, inplace=True)"
   ]
  },
  {
   "cell_type": "code",
   "execution_count": 14,
   "metadata": {},
   "outputs": [],
   "source": [
    "df.drop('Unnamed: 0', axis=1, inplace=True)"
   ]
  },
  {
   "cell_type": "code",
   "execution_count": 15,
   "metadata": {},
   "outputs": [],
   "source": [
    "data = df.copy()"
   ]
  },
  {
   "cell_type": "code",
   "execution_count": 16,
   "metadata": {},
   "outputs": [],
   "source": [
    "data['date'] = pd.to_datetime(data['page_vw_ts'])\n",
    "del data['page_vw_ts']"
   ]
  },
  {
   "cell_type": "code",
   "execution_count": 17,
   "metadata": {},
   "outputs": [
    {
     "data": {
      "text/html": [
       "<div>\n",
       "<style scoped>\n",
       "    .dataframe tbody tr th:only-of-type {\n",
       "        vertical-align: middle;\n",
       "    }\n",
       "\n",
       "    .dataframe tbody tr th {\n",
       "        vertical-align: top;\n",
       "    }\n",
       "\n",
       "    .dataframe thead th {\n",
       "        text-align: right;\n",
       "    }\n",
       "</style>\n",
       "<table border=\"1\" class=\"dataframe\">\n",
       "  <thead>\n",
       "    <tr style=\"text-align: right;\">\n",
       "      <th></th>\n",
       "      <th>ctry_name</th>\n",
       "      <th>intgrtd_mngmt_name</th>\n",
       "      <th>intgrtd_operating_team_name</th>\n",
       "      <th>city</th>\n",
       "      <th>st</th>\n",
       "      <th>operating_sys</th>\n",
       "      <th>ip_addr</th>\n",
       "      <th>user_agent</th>\n",
       "      <th>VISIT</th>\n",
       "      <th>ENGD_VISIT</th>\n",
       "      <th>VIEWS</th>\n",
       "      <th>page_url</th>\n",
       "      <th>wk</th>\n",
       "      <th>mth</th>\n",
       "      <th>yr</th>\n",
       "      <th>date</th>\n",
       "    </tr>\n",
       "  </thead>\n",
       "  <tbody>\n",
       "    <tr>\n",
       "      <th>0</th>\n",
       "      <td>United States</td>\n",
       "      <td>United States</td>\n",
       "      <td>North America</td>\n",
       "      <td>SLIDELL</td>\n",
       "      <td>LOUISIANA</td>\n",
       "      <td>IOS_12.1.4</td>\n",
       "      <td>287e8e9aeedb50e963906f10cca7ca26ae830154e69220...</td>\n",
       "      <td>MOZILLA/5.0 (IPHONE; CPU IPHONE OS 12_1_4 LIKE...</td>\n",
       "      <td>1</td>\n",
       "      <td>0</td>\n",
       "      <td>1</td>\n",
       "      <td>www.ibm.com/watson/campaign</td>\n",
       "      <td>11</td>\n",
       "      <td>3</td>\n",
       "      <td>2019</td>\n",
       "      <td>2019-06-04 05:05:18.023100</td>\n",
       "    </tr>\n",
       "    <tr>\n",
       "      <th>1</th>\n",
       "      <td>Japan</td>\n",
       "      <td>Japan</td>\n",
       "      <td>Japan</td>\n",
       "      <td>TOKYO</td>\n",
       "      <td>TOKYO</td>\n",
       "      <td>ANDROID_6.0</td>\n",
       "      <td>d7746df5cc2de7f79584d57c2c082b9acc7697602021a1...</td>\n",
       "      <td>MOZILLA/5.0 (LINUX; ANDROID 6.0; D-01J BUILD/H...</td>\n",
       "      <td>1</td>\n",
       "      <td>0</td>\n",
       "      <td>1</td>\n",
       "      <td>www.ibm.com/privacy/us/en</td>\n",
       "      <td>11</td>\n",
       "      <td>3</td>\n",
       "      <td>2019</td>\n",
       "      <td>2019-06-04 05:07:11.014300</td>\n",
       "    </tr>\n",
       "    <tr>\n",
       "      <th>2</th>\n",
       "      <td>United States</td>\n",
       "      <td>United States</td>\n",
       "      <td>North America</td>\n",
       "      <td>ELK GROVE</td>\n",
       "      <td>CALIFORNIA</td>\n",
       "      <td>IOS_12.1.2</td>\n",
       "      <td>8540464f5f376c7a160d63632f8cbedc96c61158daf9ae...</td>\n",
       "      <td>MOZILLA/5.0 (IPHONE; CPU IPHONE OS 12_1_2 LIKE...</td>\n",
       "      <td>1</td>\n",
       "      <td>0</td>\n",
       "      <td>1</td>\n",
       "      <td>www.ibm.com/account/reg/us-en/signup?formid=ur...</td>\n",
       "      <td>11</td>\n",
       "      <td>3</td>\n",
       "      <td>2019</td>\n",
       "      <td>2019-06-04 05:08:46.081900</td>\n",
       "    </tr>\n",
       "  </tbody>\n",
       "</table>\n",
       "</div>"
      ],
      "text/plain": [
       "       ctry_name intgrtd_mngmt_name intgrtd_operating_team_name       city  \\\n",
       "0  United States      United States               North America    SLIDELL   \n",
       "1          Japan              Japan                       Japan      TOKYO   \n",
       "2  United States      United States               North America  ELK GROVE   \n",
       "\n",
       "           st operating_sys  \\\n",
       "0   LOUISIANA    IOS_12.1.4   \n",
       "1       TOKYO   ANDROID_6.0   \n",
       "2  CALIFORNIA    IOS_12.1.2   \n",
       "\n",
       "                                             ip_addr  \\\n",
       "0  287e8e9aeedb50e963906f10cca7ca26ae830154e69220...   \n",
       "1  d7746df5cc2de7f79584d57c2c082b9acc7697602021a1...   \n",
       "2  8540464f5f376c7a160d63632f8cbedc96c61158daf9ae...   \n",
       "\n",
       "                                          user_agent  VISIT  ENGD_VISIT  \\\n",
       "0  MOZILLA/5.0 (IPHONE; CPU IPHONE OS 12_1_4 LIKE...      1           0   \n",
       "1  MOZILLA/5.0 (LINUX; ANDROID 6.0; D-01J BUILD/H...      1           0   \n",
       "2  MOZILLA/5.0 (IPHONE; CPU IPHONE OS 12_1_2 LIKE...      1           0   \n",
       "\n",
       "   VIEWS                                           page_url  wk  mth    yr  \\\n",
       "0      1                        www.ibm.com/watson/campaign  11    3  2019   \n",
       "1      1                          www.ibm.com/privacy/us/en  11    3  2019   \n",
       "2      1  www.ibm.com/account/reg/us-en/signup?formid=ur...  11    3  2019   \n",
       "\n",
       "                        date  \n",
       "0 2019-06-04 05:05:18.023100  \n",
       "1 2019-06-04 05:07:11.014300  \n",
       "2 2019-06-04 05:08:46.081900  "
      ]
     },
     "execution_count": 17,
     "metadata": {},
     "output_type": "execute_result"
    }
   ],
   "source": [
    "data.head(3)"
   ]
  },
  {
   "cell_type": "code",
   "execution_count": 18,
   "metadata": {},
   "outputs": [
    {
     "data": {
      "text/plain": [
       "ctry_name                          220\n",
       "intgrtd_mngmt_name                  21\n",
       "intgrtd_operating_team_name          8\n",
       "city                             20642\n",
       "st                                1856\n",
       "operating_sys                      174\n",
       "ip_addr                         450602\n",
       "user_agent                       39714\n",
       "VISIT                              129\n",
       "ENGD_VISIT                          73\n",
       "VIEWS                              183\n",
       "page_url                        329691\n",
       "wk                                   1\n",
       "mth                                  1\n",
       "yr                                   1\n",
       "date                           1038808\n",
       "dtype: int64"
      ]
     },
     "execution_count": 18,
     "metadata": {},
     "output_type": "execute_result"
    }
   ],
   "source": [
    "data.nunique()"
   ]
  },
  {
   "cell_type": "code",
   "execution_count": 19,
   "metadata": {},
   "outputs": [],
   "source": [
    "data.set_index(['date'], inplace=True)"
   ]
  },
  {
   "cell_type": "code",
   "execution_count": 20,
   "metadata": {},
   "outputs": [
    {
     "data": {
      "text/html": [
       "<div>\n",
       "<style scoped>\n",
       "    .dataframe tbody tr th:only-of-type {\n",
       "        vertical-align: middle;\n",
       "    }\n",
       "\n",
       "    .dataframe tbody tr th {\n",
       "        vertical-align: top;\n",
       "    }\n",
       "\n",
       "    .dataframe thead th {\n",
       "        text-align: right;\n",
       "    }\n",
       "</style>\n",
       "<table border=\"1\" class=\"dataframe\">\n",
       "  <thead>\n",
       "    <tr style=\"text-align: right;\">\n",
       "      <th></th>\n",
       "      <th>ctry_name</th>\n",
       "      <th>intgrtd_mngmt_name</th>\n",
       "      <th>intgrtd_operating_team_name</th>\n",
       "      <th>city</th>\n",
       "      <th>st</th>\n",
       "      <th>operating_sys</th>\n",
       "      <th>ip_addr</th>\n",
       "      <th>user_agent</th>\n",
       "      <th>VISIT</th>\n",
       "      <th>ENGD_VISIT</th>\n",
       "      <th>VIEWS</th>\n",
       "      <th>page_url</th>\n",
       "      <th>wk</th>\n",
       "      <th>mth</th>\n",
       "      <th>yr</th>\n",
       "    </tr>\n",
       "    <tr>\n",
       "      <th>date</th>\n",
       "      <th></th>\n",
       "      <th></th>\n",
       "      <th></th>\n",
       "      <th></th>\n",
       "      <th></th>\n",
       "      <th></th>\n",
       "      <th></th>\n",
       "      <th></th>\n",
       "      <th></th>\n",
       "      <th></th>\n",
       "      <th></th>\n",
       "      <th></th>\n",
       "      <th></th>\n",
       "      <th></th>\n",
       "      <th></th>\n",
       "    </tr>\n",
       "  </thead>\n",
       "  <tbody>\n",
       "    <tr>\n",
       "      <th>2019-06-04 05:05:18.023100</th>\n",
       "      <td>United States</td>\n",
       "      <td>United States</td>\n",
       "      <td>North America</td>\n",
       "      <td>SLIDELL</td>\n",
       "      <td>LOUISIANA</td>\n",
       "      <td>IOS_12.1.4</td>\n",
       "      <td>287e8e9aeedb50e963906f10cca7ca26ae830154e69220...</td>\n",
       "      <td>MOZILLA/5.0 (IPHONE; CPU IPHONE OS 12_1_4 LIKE...</td>\n",
       "      <td>1</td>\n",
       "      <td>0</td>\n",
       "      <td>1</td>\n",
       "      <td>www.ibm.com/watson/campaign</td>\n",
       "      <td>11</td>\n",
       "      <td>3</td>\n",
       "      <td>2019</td>\n",
       "    </tr>\n",
       "    <tr>\n",
       "      <th>2019-06-04 05:07:11.014300</th>\n",
       "      <td>Japan</td>\n",
       "      <td>Japan</td>\n",
       "      <td>Japan</td>\n",
       "      <td>TOKYO</td>\n",
       "      <td>TOKYO</td>\n",
       "      <td>ANDROID_6.0</td>\n",
       "      <td>d7746df5cc2de7f79584d57c2c082b9acc7697602021a1...</td>\n",
       "      <td>MOZILLA/5.0 (LINUX; ANDROID 6.0; D-01J BUILD/H...</td>\n",
       "      <td>1</td>\n",
       "      <td>0</td>\n",
       "      <td>1</td>\n",
       "      <td>www.ibm.com/privacy/us/en</td>\n",
       "      <td>11</td>\n",
       "      <td>3</td>\n",
       "      <td>2019</td>\n",
       "    </tr>\n",
       "    <tr>\n",
       "      <th>2019-06-04 05:08:46.081900</th>\n",
       "      <td>United States</td>\n",
       "      <td>United States</td>\n",
       "      <td>North America</td>\n",
       "      <td>ELK GROVE</td>\n",
       "      <td>CALIFORNIA</td>\n",
       "      <td>IOS_12.1.2</td>\n",
       "      <td>8540464f5f376c7a160d63632f8cbedc96c61158daf9ae...</td>\n",
       "      <td>MOZILLA/5.0 (IPHONE; CPU IPHONE OS 12_1_2 LIKE...</td>\n",
       "      <td>1</td>\n",
       "      <td>0</td>\n",
       "      <td>1</td>\n",
       "      <td>www.ibm.com/account/reg/us-en/signup?formid=ur...</td>\n",
       "      <td>11</td>\n",
       "      <td>3</td>\n",
       "      <td>2019</td>\n",
       "    </tr>\n",
       "  </tbody>\n",
       "</table>\n",
       "</div>"
      ],
      "text/plain": [
       "                                ctry_name intgrtd_mngmt_name  \\\n",
       "date                                                           \n",
       "2019-06-04 05:05:18.023100  United States      United States   \n",
       "2019-06-04 05:07:11.014300          Japan              Japan   \n",
       "2019-06-04 05:08:46.081900  United States      United States   \n",
       "\n",
       "                           intgrtd_operating_team_name       city          st  \\\n",
       "date                                                                            \n",
       "2019-06-04 05:05:18.023100               North America    SLIDELL   LOUISIANA   \n",
       "2019-06-04 05:07:11.014300                       Japan      TOKYO       TOKYO   \n",
       "2019-06-04 05:08:46.081900               North America  ELK GROVE  CALIFORNIA   \n",
       "\n",
       "                           operating_sys  \\\n",
       "date                                       \n",
       "2019-06-04 05:05:18.023100    IOS_12.1.4   \n",
       "2019-06-04 05:07:11.014300   ANDROID_6.0   \n",
       "2019-06-04 05:08:46.081900    IOS_12.1.2   \n",
       "\n",
       "                                                                      ip_addr  \\\n",
       "date                                                                            \n",
       "2019-06-04 05:05:18.023100  287e8e9aeedb50e963906f10cca7ca26ae830154e69220...   \n",
       "2019-06-04 05:07:11.014300  d7746df5cc2de7f79584d57c2c082b9acc7697602021a1...   \n",
       "2019-06-04 05:08:46.081900  8540464f5f376c7a160d63632f8cbedc96c61158daf9ae...   \n",
       "\n",
       "                                                                   user_agent  \\\n",
       "date                                                                            \n",
       "2019-06-04 05:05:18.023100  MOZILLA/5.0 (IPHONE; CPU IPHONE OS 12_1_4 LIKE...   \n",
       "2019-06-04 05:07:11.014300  MOZILLA/5.0 (LINUX; ANDROID 6.0; D-01J BUILD/H...   \n",
       "2019-06-04 05:08:46.081900  MOZILLA/5.0 (IPHONE; CPU IPHONE OS 12_1_2 LIKE...   \n",
       "\n",
       "                            VISIT  ENGD_VISIT  VIEWS  \\\n",
       "date                                                   \n",
       "2019-06-04 05:05:18.023100      1           0      1   \n",
       "2019-06-04 05:07:11.014300      1           0      1   \n",
       "2019-06-04 05:08:46.081900      1           0      1   \n",
       "\n",
       "                                                                     page_url  \\\n",
       "date                                                                            \n",
       "2019-06-04 05:05:18.023100                        www.ibm.com/watson/campaign   \n",
       "2019-06-04 05:07:11.014300                          www.ibm.com/privacy/us/en   \n",
       "2019-06-04 05:08:46.081900  www.ibm.com/account/reg/us-en/signup?formid=ur...   \n",
       "\n",
       "                            wk  mth    yr  \n",
       "date                                       \n",
       "2019-06-04 05:05:18.023100  11    3  2019  \n",
       "2019-06-04 05:07:11.014300  11    3  2019  \n",
       "2019-06-04 05:08:46.081900  11    3  2019  "
      ]
     },
     "execution_count": 20,
     "metadata": {},
     "output_type": "execute_result"
    }
   ],
   "source": [
    "data.head(3)"
   ]
  },
  {
   "cell_type": "code",
   "execution_count": 21,
   "metadata": {},
   "outputs": [
    {
     "data": {
      "text/plain": [
       "Float64Index([2019.0, nan, 2018.0, 2014.0, 2011.0, 2013.0, 2016.0, 2012.0,\n",
       "              2020.0, 2001.0],\n",
       "             dtype='float64', name='date')"
      ]
     },
     "execution_count": 21,
     "metadata": {},
     "output_type": "execute_result"
    }
   ],
   "source": [
    "data.index.year.unique()"
   ]
  },
  {
   "cell_type": "code",
   "execution_count": 22,
   "metadata": {},
   "outputs": [
    {
     "data": {
      "text/plain": [
       "2019.0    1045785\n",
       "NaN          2743\n",
       "2018.0         23\n",
       "2011.0          9\n",
       "2016.0          4\n",
       "2012.0          4\n",
       "2020.0          2\n",
       "2014.0          1\n",
       "2013.0          1\n",
       "2001.0          1\n",
       "Name: date, dtype: int64"
      ]
     },
     "execution_count": 22,
     "metadata": {},
     "output_type": "execute_result"
    }
   ],
   "source": [
    "data.index.year.value_counts(dropna=False)"
   ]
  },
  {
   "cell_type": "code",
   "execution_count": 23,
   "metadata": {},
   "outputs": [
    {
     "data": {
      "text/plain": [
       "<matplotlib.axes._subplots.AxesSubplot at 0x2a4242a7548>"
      ]
     },
     "execution_count": 23,
     "metadata": {},
     "output_type": "execute_result"
    },
    {
     "data": {
      "image/png": "[encoded data removed]",
      "text/plain": [
       "<Figure size 432x288 with 1 Axes>"
      ]
     },
     "metadata": {
      "needs_background": "light"
     },
     "output_type": "display_data"
    }
   ],
   "source": [
    "# plt.figure(figsize=(15,8))\n",
    "sns.countplot(y=data['intgrtd_mngmt_name'])"
   ]
  },
  {
   "cell_type": "markdown",
   "metadata": {},
   "source": [
    "### Pivot & Pivot table example"
   ]
  },
  {
   "cell_type": "code",
   "execution_count": 44,
   "metadata": {},
   "outputs": [
    {
     "data": {
      "text/html": [
       "<div>\n",
       "<style scoped>\n",
       "    .dataframe tbody tr th:only-of-type {\n",
       "        vertical-align: middle;\n",
       "    }\n",
       "\n",
       "    .dataframe tbody tr th {\n",
       "        vertical-align: top;\n",
       "    }\n",
       "\n",
       "    .dataframe thead th {\n",
       "        text-align: right;\n",
       "    }\n",
       "</style>\n",
       "<table border=\"1\" class=\"dataframe\">\n",
       "  <thead>\n",
       "    <tr style=\"text-align: right;\">\n",
       "      <th></th>\n",
       "      <th>Item</th>\n",
       "      <th>CType</th>\n",
       "      <th>USD</th>\n",
       "      <th>EU</th>\n",
       "    </tr>\n",
       "  </thead>\n",
       "  <tbody>\n",
       "    <tr>\n",
       "      <th>0</th>\n",
       "      <td>Item0</td>\n",
       "      <td>Gold</td>\n",
       "      <td>1</td>\n",
       "      <td>1€</td>\n",
       "    </tr>\n",
       "    <tr>\n",
       "      <th>1</th>\n",
       "      <td>Item0</td>\n",
       "      <td>Bronze</td>\n",
       "      <td>2</td>\n",
       "      <td>2€</td>\n",
       "    </tr>\n",
       "    <tr>\n",
       "      <th>2</th>\n",
       "      <td>Item0</td>\n",
       "      <td>Gold</td>\n",
       "      <td>3</td>\n",
       "      <td>3€</td>\n",
       "    </tr>\n",
       "    <tr>\n",
       "      <th>3</th>\n",
       "      <td>Item1</td>\n",
       "      <td>Silver</td>\n",
       "      <td>4</td>\n",
       "      <td>4€</td>\n",
       "    </tr>\n",
       "  </tbody>\n",
       "</table>\n",
       "</div>"
      ],
      "text/plain": [
       "    Item   CType USD  EU\n",
       "0  Item0    Gold   1  1€\n",
       "1  Item0  Bronze   2  2€\n",
       "2  Item0    Gold   3  3€\n",
       "3  Item1  Silver   4  4€"
      ]
     },
     "execution_count": 44,
     "metadata": {},
     "output_type": "execute_result"
    }
   ],
   "source": [
    "table = OrderedDict((\n",
    "    (\"Item\", ['Item0', 'Item0', 'Item0', 'Item1']),\n",
    "    ('CType',['Gold', 'Bronze', 'Gold', 'Silver']),\n",
    "    ('USD',  ['1',  '2',  '3',  '4']),\n",
    "    ('EU',   ['1€', '2€', '3€', '4€'])\n",
    "))\n",
    "d = pd.DataFrame(table)\n",
    "d"
   ]
  },
  {
   "cell_type": "code",
   "execution_count": 29,
   "metadata": {},
   "outputs": [
    {
     "ename": "ValueError",
     "evalue": "Index contains duplicate entries, cannot reshape",
     "output_type": "error",
     "traceback": [
      "\u001b[1;31m---------------------------------------------------------------------------\u001b[0m",
      "\u001b[1;31mValueError\u001b[0m                                Traceback (most recent call last)",
      "\u001b[1;32m<ipython-input-29-417fc8fddeec>\u001b[0m in \u001b[0;36m<module>\u001b[1;34m\u001b[0m\n\u001b[0;32m      6\u001b[0m ))\n\u001b[0;32m      7\u001b[0m \u001b[0md\u001b[0m \u001b[1;33m=\u001b[0m \u001b[0mpd\u001b[0m\u001b[1;33m.\u001b[0m\u001b[0mDataFrame\u001b[0m\u001b[1;33m(\u001b[0m\u001b[0mtable\u001b[0m\u001b[1;33m)\u001b[0m\u001b[1;33m\u001b[0m\u001b[1;33m\u001b[0m\u001b[0m\n\u001b[1;32m----> 8\u001b[1;33m \u001b[0mp\u001b[0m \u001b[1;33m=\u001b[0m \u001b[0md\u001b[0m\u001b[1;33m.\u001b[0m\u001b[0mpivot\u001b[0m\u001b[1;33m(\u001b[0m\u001b[0mindex\u001b[0m\u001b[1;33m=\u001b[0m\u001b[1;34m'Item'\u001b[0m\u001b[1;33m,\u001b[0m \u001b[0mcolumns\u001b[0m\u001b[1;33m=\u001b[0m\u001b[1;34m'CType'\u001b[0m\u001b[1;33m,\u001b[0m \u001b[0mvalues\u001b[0m\u001b[1;33m=\u001b[0m\u001b[1;34m'USD'\u001b[0m\u001b[1;33m)\u001b[0m\u001b[1;33m\u001b[0m\u001b[1;33m\u001b[0m\u001b[0m\n\u001b[0m",
      "\u001b[1;32mc:\\users\\bonsai\\appdata\\local\\programs\\python\\python37\\lib\\site-packages\\pandas\\core\\frame.py\u001b[0m in \u001b[0;36mpivot\u001b[1;34m(self, index, columns, values)\u001b[0m\n\u001b[0;32m   5921\u001b[0m         \u001b[1;32mfrom\u001b[0m \u001b[0mpandas\u001b[0m\u001b[1;33m.\u001b[0m\u001b[0mcore\u001b[0m\u001b[1;33m.\u001b[0m\u001b[0mreshape\u001b[0m\u001b[1;33m.\u001b[0m\u001b[0mpivot\u001b[0m \u001b[1;32mimport\u001b[0m \u001b[0mpivot\u001b[0m\u001b[1;33m\u001b[0m\u001b[1;33m\u001b[0m\u001b[0m\n\u001b[0;32m   5922\u001b[0m \u001b[1;33m\u001b[0m\u001b[0m\n\u001b[1;32m-> 5923\u001b[1;33m         \u001b[1;32mreturn\u001b[0m \u001b[0mpivot\u001b[0m\u001b[1;33m(\u001b[0m\u001b[0mself\u001b[0m\u001b[1;33m,\u001b[0m \u001b[0mindex\u001b[0m\u001b[1;33m=\u001b[0m\u001b[0mindex\u001b[0m\u001b[1;33m,\u001b[0m \u001b[0mcolumns\u001b[0m\u001b[1;33m=\u001b[0m\u001b[0mcolumns\u001b[0m\u001b[1;33m,\u001b[0m \u001b[0mvalues\u001b[0m\u001b[1;33m=\u001b[0m\u001b[0mvalues\u001b[0m\u001b[1;33m)\u001b[0m\u001b[1;33m\u001b[0m\u001b[1;33m\u001b[0m\u001b[0m\n\u001b[0m\u001b[0;32m   5924\u001b[0m \u001b[1;33m\u001b[0m\u001b[0m\n\u001b[0;32m   5925\u001b[0m     _shared_docs[\n",
      "\u001b[1;32mc:\\users\\bonsai\\appdata\\local\\programs\\python\\python37\\lib\\site-packages\\pandas\\core\\reshape\\pivot.py\u001b[0m in \u001b[0;36mpivot\u001b[1;34m(data, index, columns, values)\u001b[0m\n\u001b[0;32m    448\u001b[0m         \u001b[1;32melse\u001b[0m\u001b[1;33m:\u001b[0m\u001b[1;33m\u001b[0m\u001b[1;33m\u001b[0m\u001b[0m\n\u001b[0;32m    449\u001b[0m             \u001b[0mindexed\u001b[0m \u001b[1;33m=\u001b[0m \u001b[0mdata\u001b[0m\u001b[1;33m.\u001b[0m\u001b[0m_constructor_sliced\u001b[0m\u001b[1;33m(\u001b[0m\u001b[0mdata\u001b[0m\u001b[1;33m[\u001b[0m\u001b[0mvalues\u001b[0m\u001b[1;33m]\u001b[0m\u001b[1;33m.\u001b[0m\u001b[0mvalues\u001b[0m\u001b[1;33m,\u001b[0m \u001b[0mindex\u001b[0m\u001b[1;33m=\u001b[0m\u001b[0mindex\u001b[0m\u001b[1;33m)\u001b[0m\u001b[1;33m\u001b[0m\u001b[1;33m\u001b[0m\u001b[0m\n\u001b[1;32m--> 450\u001b[1;33m     \u001b[1;32mreturn\u001b[0m \u001b[0mindexed\u001b[0m\u001b[1;33m.\u001b[0m\u001b[0munstack\u001b[0m\u001b[1;33m(\u001b[0m\u001b[0mcolumns\u001b[0m\u001b[1;33m)\u001b[0m\u001b[1;33m\u001b[0m\u001b[1;33m\u001b[0m\u001b[0m\n\u001b[0m\u001b[0;32m    451\u001b[0m \u001b[1;33m\u001b[0m\u001b[0m\n\u001b[0;32m    452\u001b[0m \u001b[1;33m\u001b[0m\u001b[0m\n",
      "\u001b[1;32mc:\\users\\bonsai\\appdata\\local\\programs\\python\\python37\\lib\\site-packages\\pandas\\core\\series.py\u001b[0m in \u001b[0;36munstack\u001b[1;34m(self, level, fill_value)\u001b[0m\n\u001b[0;32m   3548\u001b[0m         \u001b[1;32mfrom\u001b[0m \u001b[0mpandas\u001b[0m\u001b[1;33m.\u001b[0m\u001b[0mcore\u001b[0m\u001b[1;33m.\u001b[0m\u001b[0mreshape\u001b[0m\u001b[1;33m.\u001b[0m\u001b[0mreshape\u001b[0m \u001b[1;32mimport\u001b[0m \u001b[0munstack\u001b[0m\u001b[1;33m\u001b[0m\u001b[1;33m\u001b[0m\u001b[0m\n\u001b[0;32m   3549\u001b[0m \u001b[1;33m\u001b[0m\u001b[0m\n\u001b[1;32m-> 3550\u001b[1;33m         \u001b[1;32mreturn\u001b[0m \u001b[0munstack\u001b[0m\u001b[1;33m(\u001b[0m\u001b[0mself\u001b[0m\u001b[1;33m,\u001b[0m \u001b[0mlevel\u001b[0m\u001b[1;33m,\u001b[0m \u001b[0mfill_value\u001b[0m\u001b[1;33m)\u001b[0m\u001b[1;33m\u001b[0m\u001b[1;33m\u001b[0m\u001b[0m\n\u001b[0m\u001b[0;32m   3551\u001b[0m \u001b[1;33m\u001b[0m\u001b[0m\n\u001b[0;32m   3552\u001b[0m     \u001b[1;31m# ----------------------------------------------------------------------\u001b[0m\u001b[1;33m\u001b[0m\u001b[1;33m\u001b[0m\u001b[1;33m\u001b[0m\u001b[0m\n",
      "\u001b[1;32mc:\\users\\bonsai\\appdata\\local\\programs\\python\\python37\\lib\\site-packages\\pandas\\core\\reshape\\reshape.py\u001b[0m in \u001b[0;36munstack\u001b[1;34m(obj, level, fill_value)\u001b[0m\n\u001b[0;32m    417\u001b[0m             \u001b[0mlevel\u001b[0m\u001b[1;33m=\u001b[0m\u001b[0mlevel\u001b[0m\u001b[1;33m,\u001b[0m\u001b[1;33m\u001b[0m\u001b[1;33m\u001b[0m\u001b[0m\n\u001b[0;32m    418\u001b[0m             \u001b[0mfill_value\u001b[0m\u001b[1;33m=\u001b[0m\u001b[0mfill_value\u001b[0m\u001b[1;33m,\u001b[0m\u001b[1;33m\u001b[0m\u001b[1;33m\u001b[0m\u001b[0m\n\u001b[1;32m--> 419\u001b[1;33m             \u001b[0mconstructor\u001b[0m\u001b[1;33m=\u001b[0m\u001b[0mobj\u001b[0m\u001b[1;33m.\u001b[0m\u001b[0m_constructor_expanddim\u001b[0m\u001b[1;33m,\u001b[0m\u001b[1;33m\u001b[0m\u001b[1;33m\u001b[0m\u001b[0m\n\u001b[0m\u001b[0;32m    420\u001b[0m         )\n\u001b[0;32m    421\u001b[0m         \u001b[1;32mreturn\u001b[0m \u001b[0munstacker\u001b[0m\u001b[1;33m.\u001b[0m\u001b[0mget_result\u001b[0m\u001b[1;33m(\u001b[0m\u001b[1;33m)\u001b[0m\u001b[1;33m\u001b[0m\u001b[1;33m\u001b[0m\u001b[0m\n",
      "\u001b[1;32mc:\\users\\bonsai\\appdata\\local\\programs\\python\\python37\\lib\\site-packages\\pandas\\core\\reshape\\reshape.py\u001b[0m in \u001b[0;36m__init__\u001b[1;34m(self, values, index, level, value_columns, fill_value, constructor)\u001b[0m\n\u001b[0;32m    139\u001b[0m \u001b[1;33m\u001b[0m\u001b[0m\n\u001b[0;32m    140\u001b[0m         \u001b[0mself\u001b[0m\u001b[1;33m.\u001b[0m\u001b[0m_make_sorted_values_labels\u001b[0m\u001b[1;33m(\u001b[0m\u001b[1;33m)\u001b[0m\u001b[1;33m\u001b[0m\u001b[1;33m\u001b[0m\u001b[0m\n\u001b[1;32m--> 141\u001b[1;33m         \u001b[0mself\u001b[0m\u001b[1;33m.\u001b[0m\u001b[0m_make_selectors\u001b[0m\u001b[1;33m(\u001b[0m\u001b[1;33m)\u001b[0m\u001b[1;33m\u001b[0m\u001b[1;33m\u001b[0m\u001b[0m\n\u001b[0m\u001b[0;32m    142\u001b[0m \u001b[1;33m\u001b[0m\u001b[0m\n\u001b[0;32m    143\u001b[0m     \u001b[1;32mdef\u001b[0m \u001b[0m_make_sorted_values_labels\u001b[0m\u001b[1;33m(\u001b[0m\u001b[0mself\u001b[0m\u001b[1;33m)\u001b[0m\u001b[1;33m:\u001b[0m\u001b[1;33m\u001b[0m\u001b[1;33m\u001b[0m\u001b[0m\n",
      "\u001b[1;32mc:\\users\\bonsai\\appdata\\local\\programs\\python\\python37\\lib\\site-packages\\pandas\\core\\reshape\\reshape.py\u001b[0m in \u001b[0;36m_make_selectors\u001b[1;34m(self)\u001b[0m\n\u001b[0;32m    177\u001b[0m \u001b[1;33m\u001b[0m\u001b[0m\n\u001b[0;32m    178\u001b[0m         \u001b[1;32mif\u001b[0m \u001b[0mmask\u001b[0m\u001b[1;33m.\u001b[0m\u001b[0msum\u001b[0m\u001b[1;33m(\u001b[0m\u001b[1;33m)\u001b[0m \u001b[1;33m<\u001b[0m \u001b[0mlen\u001b[0m\u001b[1;33m(\u001b[0m\u001b[0mself\u001b[0m\u001b[1;33m.\u001b[0m\u001b[0mindex\u001b[0m\u001b[1;33m)\u001b[0m\u001b[1;33m:\u001b[0m\u001b[1;33m\u001b[0m\u001b[1;33m\u001b[0m\u001b[0m\n\u001b[1;32m--> 179\u001b[1;33m             \u001b[1;32mraise\u001b[0m \u001b[0mValueError\u001b[0m\u001b[1;33m(\u001b[0m\u001b[1;34m\"Index contains duplicate entries, cannot reshape\"\u001b[0m\u001b[1;33m)\u001b[0m\u001b[1;33m\u001b[0m\u001b[1;33m\u001b[0m\u001b[0m\n\u001b[0m\u001b[0;32m    180\u001b[0m \u001b[1;33m\u001b[0m\u001b[0m\n\u001b[0;32m    181\u001b[0m         \u001b[0mself\u001b[0m\u001b[1;33m.\u001b[0m\u001b[0mgroup_index\u001b[0m \u001b[1;33m=\u001b[0m \u001b[0mcomp_index\u001b[0m\u001b[1;33m\u001b[0m\u001b[1;33m\u001b[0m\u001b[0m\n",
      "\u001b[1;31mValueError\u001b[0m: Index contains duplicate entries, cannot reshape"
     ]
    }
   ],
   "source": [
    "p = d.pivot(index='Item', columns='CType', values='USD')"
   ]
  },
  {
   "cell_type": "markdown",
   "metadata": {},
   "source": [
    "##### We cannot use pivot here as the column `CType` has `Gold` more than once so the function will get confused and will not understand which value of `USD` to put ie `1` or `3`. So we get the error that `ValueError: Index contains duplicate entries, cannot reshape`.\n",
    "##### So in such as case where we have duplicate values in a column which is used  as a `columns` parameter in `pivot` the we should use `pivot_table` as it allows us to perform aggregation on that duplicate value"
   ]
  },
  {
   "cell_type": "code",
   "execution_count": 41,
   "metadata": {},
   "outputs": [],
   "source": [
    "d['USD'] = d['USD'].astype('int')\n",
    "# d['USD'] = d['USD'].astype('int')"
   ]
  },
  {
   "cell_type": "code",
   "execution_count": 43,
   "metadata": {},
   "outputs": [
    {
     "data": {
      "text/html": [
       "<div>\n",
       "<style scoped>\n",
       "    .dataframe tbody tr th:only-of-type {\n",
       "        vertical-align: middle;\n",
       "    }\n",
       "\n",
       "    .dataframe tbody tr th {\n",
       "        vertical-align: top;\n",
       "    }\n",
       "\n",
       "    .dataframe thead th {\n",
       "        text-align: right;\n",
       "    }\n",
       "</style>\n",
       "<table border=\"1\" class=\"dataframe\">\n",
       "  <thead>\n",
       "    <tr style=\"text-align: right;\">\n",
       "      <th>Item</th>\n",
       "      <th>Item0</th>\n",
       "      <th>Item1</th>\n",
       "    </tr>\n",
       "    <tr>\n",
       "      <th>CType</th>\n",
       "      <th></th>\n",
       "      <th></th>\n",
       "    </tr>\n",
       "  </thead>\n",
       "  <tbody>\n",
       "    <tr>\n",
       "      <th>Bronze</th>\n",
       "      <td>2.0</td>\n",
       "      <td>NaN</td>\n",
       "    </tr>\n",
       "    <tr>\n",
       "      <th>Gold</th>\n",
       "      <td>4.0</td>\n",
       "      <td>NaN</td>\n",
       "    </tr>\n",
       "    <tr>\n",
       "      <th>Silver</th>\n",
       "      <td>NaN</td>\n",
       "      <td>4.0</td>\n",
       "    </tr>\n",
       "  </tbody>\n",
       "</table>\n",
       "</div>"
      ],
      "text/plain": [
       "Item    Item0  Item1\n",
       "CType               \n",
       "Bronze    2.0    NaN\n",
       "Gold      4.0    NaN\n",
       "Silver    NaN    4.0"
      ]
     },
     "execution_count": 43,
     "metadata": {},
     "output_type": "execute_result"
    }
   ],
   "source": [
    "d.pivot_table(index='CType', columns='Item', values='USD', aggfunc='sum')"
   ]
  },
  {
   "cell_type": "markdown",
   "metadata": {},
   "source": [
    "#### Visualise number of visits for top 20 countries"
   ]
  },
  {
   "cell_type": "code",
   "execution_count": 70,
   "metadata": {},
   "outputs": [],
   "source": [
    "country_vists = data.groupby(['ctry_name'])['VISIT'].sum()"
   ]
  },
  {
   "cell_type": "code",
   "execution_count": 76,
   "metadata": {},
   "outputs": [],
   "source": [
    "country_vists = country_vists.reset_index()"
   ]
  },
  {
   "cell_type": "code",
   "execution_count": 77,
   "metadata": {},
   "outputs": [
    {
     "data": {
      "text/html": [
       "<div>\n",
       "<style scoped>\n",
       "    .dataframe tbody tr th:only-of-type {\n",
       "        vertical-align: middle;\n",
       "    }\n",
       "\n",
       "    .dataframe tbody tr th {\n",
       "        vertical-align: top;\n",
       "    }\n",
       "\n",
       "    .dataframe thead th {\n",
       "        text-align: right;\n",
       "    }\n",
       "</style>\n",
       "<table border=\"1\" class=\"dataframe\">\n",
       "  <thead>\n",
       "    <tr style=\"text-align: right;\">\n",
       "      <th></th>\n",
       "      <th>ctry_name</th>\n",
       "      <th>VISIT</th>\n",
       "    </tr>\n",
       "  </thead>\n",
       "  <tbody>\n",
       "    <tr>\n",
       "      <th>0</th>\n",
       "      <td>Afghanistan</td>\n",
       "      <td>84</td>\n",
       "    </tr>\n",
       "    <tr>\n",
       "      <th>1</th>\n",
       "      <td>Aland Islands</td>\n",
       "      <td>45</td>\n",
       "    </tr>\n",
       "    <tr>\n",
       "      <th>2</th>\n",
       "      <td>Albania</td>\n",
       "      <td>344</td>\n",
       "    </tr>\n",
       "    <tr>\n",
       "      <th>3</th>\n",
       "      <td>Algeria</td>\n",
       "      <td>779</td>\n",
       "    </tr>\n",
       "    <tr>\n",
       "      <th>4</th>\n",
       "      <td>American Samoa</td>\n",
       "      <td>4</td>\n",
       "    </tr>\n",
       "    <tr>\n",
       "      <th>...</th>\n",
       "      <td>...</td>\n",
       "      <td>...</td>\n",
       "    </tr>\n",
       "    <tr>\n",
       "      <th>215</th>\n",
       "      <td>Virgin Islands, British</td>\n",
       "      <td>7</td>\n",
       "    </tr>\n",
       "    <tr>\n",
       "      <th>216</th>\n",
       "      <td>Virgin Islands, U.S.</td>\n",
       "      <td>12</td>\n",
       "    </tr>\n",
       "    <tr>\n",
       "      <th>217</th>\n",
       "      <td>Yemen</td>\n",
       "      <td>87</td>\n",
       "    </tr>\n",
       "    <tr>\n",
       "      <th>218</th>\n",
       "      <td>Zambia</td>\n",
       "      <td>95</td>\n",
       "    </tr>\n",
       "    <tr>\n",
       "      <th>219</th>\n",
       "      <td>Zimbabwe</td>\n",
       "      <td>184</td>\n",
       "    </tr>\n",
       "  </tbody>\n",
       "</table>\n",
       "<p>220 rows × 2 columns</p>\n",
       "</div>"
      ],
      "text/plain": [
       "                   ctry_name  VISIT\n",
       "0                Afghanistan     84\n",
       "1              Aland Islands     45\n",
       "2                    Albania    344\n",
       "3                    Algeria    779\n",
       "4             American Samoa      4\n",
       "..                       ...    ...\n",
       "215  Virgin Islands, British      7\n",
       "216     Virgin Islands, U.S.     12\n",
       "217                    Yemen     87\n",
       "218                   Zambia     95\n",
       "219                 Zimbabwe    184\n",
       "\n",
       "[220 rows x 2 columns]"
      ]
     },
     "execution_count": 77,
     "metadata": {},
     "output_type": "execute_result"
    }
   ],
   "source": [
    "country_vists"
   ]
  },
  {
   "cell_type": "code",
   "execution_count": 79,
   "metadata": {},
   "outputs": [],
   "source": [
    "country_vists.sort_values('VISIT', ascending=False, inplace=True)"
   ]
  },
  {
   "cell_type": "code",
   "execution_count": 83,
   "metadata": {},
   "outputs": [
    {
     "data": {
      "text/plain": [
       "ctry_name    object\n",
       "VISIT         int64\n",
       "dtype: object"
      ]
     },
     "execution_count": 83,
     "metadata": {},
     "output_type": "execute_result"
    }
   ],
   "source": [
    "country_vists.dtypes"
   ]
  },
  {
   "cell_type": "code",
   "execution_count": 99,
   "metadata": {},
   "outputs": [
    {
     "data": {
      "text/plain": [
       "Text(0.5, 1.0, 'Countrywise Visit ')"
      ]
     },
     "execution_count": 99,
     "metadata": {},
     "output_type": "execute_result"
    },
    {
     "data": {
      "image/png": "[encoded data removed]",
      "text/plain": [
       "<Figure size 1080x576 with 1 Axes>"
      ]
     },
     "metadata": {
      "needs_background": "light"
     },
     "output_type": "display_data"
    }
   ],
   "source": [
    "plt.figure(figsize=(15, 8))\n",
    "sns.barplot(y=country_vists['ctry_name'].head(20), x=country_vists['VISIT'].head(20))\n",
    "plt.ylabel('Country Name')\n",
    "plt.title('Countrywise Visit ')"
   ]
  },
  {
   "cell_type": "markdown",
   "metadata": {},
   "source": [
    "#### Same plot as above using `dataframe.plot.bar()`"
   ]
  },
  {
   "cell_type": "code",
   "execution_count": 95,
   "metadata": {},
   "outputs": [
    {
     "data": {
      "text/plain": [
       "<matplotlib.axes._subplots.AxesSubplot at 0x2a4664aad08>"
      ]
     },
     "execution_count": 95,
     "metadata": {},
     "output_type": "execute_result"
    },
    {
     "data": {
      "image/png": "[encoded data removed]",
      "text/plain": [
       "<Figure size 432x288 with 1 Axes>"
      ]
     },
     "metadata": {
      "needs_background": "light"
     },
     "output_type": "display_data"
    }
   ],
   "source": [
    "country_vists.head(20).plot.bar(x='ctry_name', y='VISIT')"
   ]
  },
  {
   "cell_type": "code",
   "execution_count": 100,
   "metadata": {},
   "outputs": [
    {
     "data": {
      "text/html": [
       "<div>\n",
       "<style scoped>\n",
       "    .dataframe tbody tr th:only-of-type {\n",
       "        vertical-align: middle;\n",
       "    }\n",
       "\n",
       "    .dataframe tbody tr th {\n",
       "        vertical-align: top;\n",
       "    }\n",
       "\n",
       "    .dataframe thead tr th {\n",
       "        text-align: left;\n",
       "    }\n",
       "\n",
       "    .dataframe thead tr:last-of-type th {\n",
       "        text-align: right;\n",
       "    }\n",
       "</style>\n",
       "<table border=\"1\" class=\"dataframe\">\n",
       "  <thead>\n",
       "    <tr>\n",
       "      <th></th>\n",
       "      <th colspan=\"10\" halign=\"left\">ENGD_VISIT</th>\n",
       "      <th>...</th>\n",
       "      <th colspan=\"10\" halign=\"left\">yr</th>\n",
       "    </tr>\n",
       "    <tr>\n",
       "      <th>VISIT</th>\n",
       "      <th>1</th>\n",
       "      <th>2</th>\n",
       "      <th>3</th>\n",
       "      <th>4</th>\n",
       "      <th>5</th>\n",
       "      <th>6</th>\n",
       "      <th>7</th>\n",
       "      <th>8</th>\n",
       "      <th>9</th>\n",
       "      <th>10</th>\n",
       "      <th>...</th>\n",
       "      <th>288</th>\n",
       "      <th>293</th>\n",
       "      <th>355</th>\n",
       "      <th>360</th>\n",
       "      <th>372</th>\n",
       "      <th>463</th>\n",
       "      <th>476</th>\n",
       "      <th>517</th>\n",
       "      <th>788</th>\n",
       "      <th>1195</th>\n",
       "    </tr>\n",
       "    <tr>\n",
       "      <th>ctry_name</th>\n",
       "      <th></th>\n",
       "      <th></th>\n",
       "      <th></th>\n",
       "      <th></th>\n",
       "      <th></th>\n",
       "      <th></th>\n",
       "      <th></th>\n",
       "      <th></th>\n",
       "      <th></th>\n",
       "      <th></th>\n",
       "      <th></th>\n",
       "      <th></th>\n",
       "      <th></th>\n",
       "      <th></th>\n",
       "      <th></th>\n",
       "      <th></th>\n",
       "      <th></th>\n",
       "      <th></th>\n",
       "      <th></th>\n",
       "      <th></th>\n",
       "      <th></th>\n",
       "    </tr>\n",
       "  </thead>\n",
       "  <tbody>\n",
       "    <tr>\n",
       "      <th>Afghanistan</th>\n",
       "      <td>24.0</td>\n",
       "      <td>2.0</td>\n",
       "      <td>3.0</td>\n",
       "      <td>NaN</td>\n",
       "      <td>NaN</td>\n",
       "      <td>NaN</td>\n",
       "      <td>NaN</td>\n",
       "      <td>NaN</td>\n",
       "      <td>NaN</td>\n",
       "      <td>NaN</td>\n",
       "      <td>...</td>\n",
       "      <td>NaN</td>\n",
       "      <td>NaN</td>\n",
       "      <td>NaN</td>\n",
       "      <td>NaN</td>\n",
       "      <td>NaN</td>\n",
       "      <td>NaN</td>\n",
       "      <td>NaN</td>\n",
       "      <td>NaN</td>\n",
       "      <td>NaN</td>\n",
       "      <td>NaN</td>\n",
       "    </tr>\n",
       "    <tr>\n",
       "      <th>Aland Islands</th>\n",
       "      <td>16.0</td>\n",
       "      <td>1.0</td>\n",
       "      <td>NaN</td>\n",
       "      <td>NaN</td>\n",
       "      <td>NaN</td>\n",
       "      <td>NaN</td>\n",
       "      <td>NaN</td>\n",
       "      <td>NaN</td>\n",
       "      <td>NaN</td>\n",
       "      <td>NaN</td>\n",
       "      <td>...</td>\n",
       "      <td>NaN</td>\n",
       "      <td>NaN</td>\n",
       "      <td>NaN</td>\n",
       "      <td>NaN</td>\n",
       "      <td>NaN</td>\n",
       "      <td>NaN</td>\n",
       "      <td>NaN</td>\n",
       "      <td>NaN</td>\n",
       "      <td>NaN</td>\n",
       "      <td>NaN</td>\n",
       "    </tr>\n",
       "    <tr>\n",
       "      <th>Albania</th>\n",
       "      <td>93.0</td>\n",
       "      <td>12.0</td>\n",
       "      <td>2.0</td>\n",
       "      <td>4.0</td>\n",
       "      <td>NaN</td>\n",
       "      <td>NaN</td>\n",
       "      <td>NaN</td>\n",
       "      <td>NaN</td>\n",
       "      <td>NaN</td>\n",
       "      <td>NaN</td>\n",
       "      <td>...</td>\n",
       "      <td>NaN</td>\n",
       "      <td>NaN</td>\n",
       "      <td>NaN</td>\n",
       "      <td>NaN</td>\n",
       "      <td>NaN</td>\n",
       "      <td>NaN</td>\n",
       "      <td>NaN</td>\n",
       "      <td>NaN</td>\n",
       "      <td>NaN</td>\n",
       "      <td>NaN</td>\n",
       "    </tr>\n",
       "    <tr>\n",
       "      <th>Algeria</th>\n",
       "      <td>195.0</td>\n",
       "      <td>18.0</td>\n",
       "      <td>0.0</td>\n",
       "      <td>0.0</td>\n",
       "      <td>NaN</td>\n",
       "      <td>1.0</td>\n",
       "      <td>NaN</td>\n",
       "      <td>NaN</td>\n",
       "      <td>NaN</td>\n",
       "      <td>NaN</td>\n",
       "      <td>...</td>\n",
       "      <td>NaN</td>\n",
       "      <td>NaN</td>\n",
       "      <td>NaN</td>\n",
       "      <td>NaN</td>\n",
       "      <td>NaN</td>\n",
       "      <td>NaN</td>\n",
       "      <td>NaN</td>\n",
       "      <td>NaN</td>\n",
       "      <td>NaN</td>\n",
       "      <td>NaN</td>\n",
       "    </tr>\n",
       "    <tr>\n",
       "      <th>American Samoa</th>\n",
       "      <td>0.0</td>\n",
       "      <td>NaN</td>\n",
       "      <td>0.0</td>\n",
       "      <td>NaN</td>\n",
       "      <td>NaN</td>\n",
       "      <td>NaN</td>\n",
       "      <td>NaN</td>\n",
       "      <td>NaN</td>\n",
       "      <td>NaN</td>\n",
       "      <td>NaN</td>\n",
       "      <td>...</td>\n",
       "      <td>NaN</td>\n",
       "      <td>NaN</td>\n",
       "      <td>NaN</td>\n",
       "      <td>NaN</td>\n",
       "      <td>NaN</td>\n",
       "      <td>NaN</td>\n",
       "      <td>NaN</td>\n",
       "      <td>NaN</td>\n",
       "      <td>NaN</td>\n",
       "      <td>NaN</td>\n",
       "    </tr>\n",
       "    <tr>\n",
       "      <th>...</th>\n",
       "      <td>...</td>\n",
       "      <td>...</td>\n",
       "      <td>...</td>\n",
       "      <td>...</td>\n",
       "      <td>...</td>\n",
       "      <td>...</td>\n",
       "      <td>...</td>\n",
       "      <td>...</td>\n",
       "      <td>...</td>\n",
       "      <td>...</td>\n",
       "      <td>...</td>\n",
       "      <td>...</td>\n",
       "      <td>...</td>\n",
       "      <td>...</td>\n",
       "      <td>...</td>\n",
       "      <td>...</td>\n",
       "      <td>...</td>\n",
       "      <td>...</td>\n",
       "      <td>...</td>\n",
       "      <td>...</td>\n",
       "      <td>...</td>\n",
       "    </tr>\n",
       "    <tr>\n",
       "      <th>Virgin Islands, British</th>\n",
       "      <td>2.0</td>\n",
       "      <td>NaN</td>\n",
       "      <td>NaN</td>\n",
       "      <td>NaN</td>\n",
       "      <td>NaN</td>\n",
       "      <td>NaN</td>\n",
       "      <td>NaN</td>\n",
       "      <td>NaN</td>\n",
       "      <td>NaN</td>\n",
       "      <td>NaN</td>\n",
       "      <td>...</td>\n",
       "      <td>NaN</td>\n",
       "      <td>NaN</td>\n",
       "      <td>NaN</td>\n",
       "      <td>NaN</td>\n",
       "      <td>NaN</td>\n",
       "      <td>NaN</td>\n",
       "      <td>NaN</td>\n",
       "      <td>NaN</td>\n",
       "      <td>NaN</td>\n",
       "      <td>NaN</td>\n",
       "    </tr>\n",
       "    <tr>\n",
       "      <th>Virgin Islands, U.S.</th>\n",
       "      <td>0.0</td>\n",
       "      <td>NaN</td>\n",
       "      <td>1.0</td>\n",
       "      <td>NaN</td>\n",
       "      <td>NaN</td>\n",
       "      <td>NaN</td>\n",
       "      <td>NaN</td>\n",
       "      <td>NaN</td>\n",
       "      <td>NaN</td>\n",
       "      <td>NaN</td>\n",
       "      <td>...</td>\n",
       "      <td>NaN</td>\n",
       "      <td>NaN</td>\n",
       "      <td>NaN</td>\n",
       "      <td>NaN</td>\n",
       "      <td>NaN</td>\n",
       "      <td>NaN</td>\n",
       "      <td>NaN</td>\n",
       "      <td>NaN</td>\n",
       "      <td>NaN</td>\n",
       "      <td>NaN</td>\n",
       "    </tr>\n",
       "    <tr>\n",
       "      <th>Yemen</th>\n",
       "      <td>28.0</td>\n",
       "      <td>6.0</td>\n",
       "      <td>NaN</td>\n",
       "      <td>0.0</td>\n",
       "      <td>NaN</td>\n",
       "      <td>NaN</td>\n",
       "      <td>NaN</td>\n",
       "      <td>NaN</td>\n",
       "      <td>NaN</td>\n",
       "      <td>NaN</td>\n",
       "      <td>...</td>\n",
       "      <td>NaN</td>\n",
       "      <td>NaN</td>\n",
       "      <td>NaN</td>\n",
       "      <td>NaN</td>\n",
       "      <td>NaN</td>\n",
       "      <td>NaN</td>\n",
       "      <td>NaN</td>\n",
       "      <td>NaN</td>\n",
       "      <td>NaN</td>\n",
       "      <td>NaN</td>\n",
       "    </tr>\n",
       "    <tr>\n",
       "      <th>Zambia</th>\n",
       "      <td>33.0</td>\n",
       "      <td>4.0</td>\n",
       "      <td>NaN</td>\n",
       "      <td>NaN</td>\n",
       "      <td>NaN</td>\n",
       "      <td>NaN</td>\n",
       "      <td>NaN</td>\n",
       "      <td>NaN</td>\n",
       "      <td>NaN</td>\n",
       "      <td>NaN</td>\n",
       "      <td>...</td>\n",
       "      <td>NaN</td>\n",
       "      <td>NaN</td>\n",
       "      <td>NaN</td>\n",
       "      <td>NaN</td>\n",
       "      <td>NaN</td>\n",
       "      <td>NaN</td>\n",
       "      <td>NaN</td>\n",
       "      <td>NaN</td>\n",
       "      <td>NaN</td>\n",
       "      <td>NaN</td>\n",
       "    </tr>\n",
       "    <tr>\n",
       "      <th>Zimbabwe</th>\n",
       "      <td>40.0</td>\n",
       "      <td>1.0</td>\n",
       "      <td>0.0</td>\n",
       "      <td>NaN</td>\n",
       "      <td>NaN</td>\n",
       "      <td>NaN</td>\n",
       "      <td>NaN</td>\n",
       "      <td>NaN</td>\n",
       "      <td>NaN</td>\n",
       "      <td>NaN</td>\n",
       "      <td>...</td>\n",
       "      <td>NaN</td>\n",
       "      <td>NaN</td>\n",
       "      <td>NaN</td>\n",
       "      <td>NaN</td>\n",
       "      <td>NaN</td>\n",
       "      <td>NaN</td>\n",
       "      <td>NaN</td>\n",
       "      <td>NaN</td>\n",
       "      <td>NaN</td>\n",
       "      <td>NaN</td>\n",
       "    </tr>\n",
       "  </tbody>\n",
       "</table>\n",
       "<p>220 rows × 645 columns</p>\n",
       "</div>"
      ],
      "text/plain": [
       "                        ENGD_VISIT                                           \\\n",
       "VISIT                         1     2    3    4    5    6    7    8    9      \n",
       "ctry_name                                                                     \n",
       "Afghanistan                   24.0   2.0  3.0  NaN  NaN  NaN  NaN  NaN  NaN   \n",
       "Aland Islands                 16.0   1.0  NaN  NaN  NaN  NaN  NaN  NaN  NaN   \n",
       "Albania                       93.0  12.0  2.0  4.0  NaN  NaN  NaN  NaN  NaN   \n",
       "Algeria                      195.0  18.0  0.0  0.0  NaN  1.0  NaN  NaN  NaN   \n",
       "American Samoa                 0.0   NaN  0.0  NaN  NaN  NaN  NaN  NaN  NaN   \n",
       "...                            ...   ...  ...  ...  ...  ...  ...  ...  ...   \n",
       "Virgin Islands, British        2.0   NaN  NaN  NaN  NaN  NaN  NaN  NaN  NaN   \n",
       "Virgin Islands, U.S.           0.0   NaN  1.0  NaN  NaN  NaN  NaN  NaN  NaN   \n",
       "Yemen                         28.0   6.0  NaN  0.0  NaN  NaN  NaN  NaN  NaN   \n",
       "Zambia                        33.0   4.0  NaN  NaN  NaN  NaN  NaN  NaN  NaN   \n",
       "Zimbabwe                      40.0   1.0  0.0  NaN  NaN  NaN  NaN  NaN  NaN   \n",
       "\n",
       "                              ...   yr                                     \\\n",
       "VISIT                   10    ... 288  293  355  360  372  463  476  517    \n",
       "ctry_name                     ...                                           \n",
       "Afghanistan              NaN  ...  NaN  NaN  NaN  NaN  NaN  NaN  NaN  NaN   \n",
       "Aland Islands            NaN  ...  NaN  NaN  NaN  NaN  NaN  NaN  NaN  NaN   \n",
       "Albania                  NaN  ...  NaN  NaN  NaN  NaN  NaN  NaN  NaN  NaN   \n",
       "Algeria                  NaN  ...  NaN  NaN  NaN  NaN  NaN  NaN  NaN  NaN   \n",
       "American Samoa           NaN  ...  NaN  NaN  NaN  NaN  NaN  NaN  NaN  NaN   \n",
       "...                      ...  ...  ...  ...  ...  ...  ...  ...  ...  ...   \n",
       "Virgin Islands, British  NaN  ...  NaN  NaN  NaN  NaN  NaN  NaN  NaN  NaN   \n",
       "Virgin Islands, U.S.     NaN  ...  NaN  NaN  NaN  NaN  NaN  NaN  NaN  NaN   \n",
       "Yemen                    NaN  ...  NaN  NaN  NaN  NaN  NaN  NaN  NaN  NaN   \n",
       "Zambia                   NaN  ...  NaN  NaN  NaN  NaN  NaN  NaN  NaN  NaN   \n",
       "Zimbabwe                 NaN  ...  NaN  NaN  NaN  NaN  NaN  NaN  NaN  NaN   \n",
       "\n",
       "                                   \n",
       "VISIT                   788  1195  \n",
       "ctry_name                          \n",
       "Afghanistan              NaN  NaN  \n",
       "Aland Islands            NaN  NaN  \n",
       "Albania                  NaN  NaN  \n",
       "Algeria                  NaN  NaN  \n",
       "American Samoa           NaN  NaN  \n",
       "...                      ...  ...  \n",
       "Virgin Islands, British  NaN  NaN  \n",
       "Virgin Islands, U.S.     NaN  NaN  \n",
       "Yemen                    NaN  NaN  \n",
       "Zambia                   NaN  NaN  \n",
       "Zimbabwe                 NaN  NaN  \n",
       "\n",
       "[220 rows x 645 columns]"
      ]
     },
     "execution_count": 100,
     "metadata": {},
     "output_type": "execute_result"
    }
   ],
   "source": [
    "country_vists = data.pivot_table(index='ctry_name', columns='VISIT', aggfunc='sum')\n",
    "\n",
    "country_vists"
   ]
  },
  {
   "cell_type": "code",
   "execution_count": null,
   "metadata": {},
   "outputs": [],
   "source": [
    "data.ip_addr"
   ]
  },
  {
   "cell_type": "code",
   "execution_count": null,
   "metadata": {},
   "outputs": [],
   "source": [
    "a = data.pivot_table(index='ctry_name', columns='ip_addr')\n"
   ]
  }
 ],
 "metadata": {
  "kernelspec": {
   "display_name": "Python 3",
   "language": "python",
   "name": "python3"
  },
  "language_info": {
   "codemirror_mode": {
    "name": "ipython",
    "version": 3
   },
   "file_extension": ".py",
   "mimetype": "text/x-python",
   "name": "python",
   "nbconvert_exporter": "python",
   "pygments_lexer": "ipython3",
   "version": "3.7.4"
  }
 },
 "nbformat": 4,
 "nbformat_minor": 4
}
